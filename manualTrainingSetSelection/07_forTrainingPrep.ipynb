{
 "cells": [
  {
   "cell_type": "markdown",
   "source": [
    "# This file combines the no change (good) and no change (bad) into one feature no change. \n",
    "##### This allows us to create a binary classification model and simplify our analysis into weather a location has changed or not."
   ],
   "metadata": {
    "collapsed": false
   },
   "id": "2a7928698eefb668"
  },
  {
   "cell_type": "code",
   "execution_count": 129,
   "id": "initial_id",
   "metadata": {
    "collapsed": true,
    "ExecuteTime": {
     "end_time": "2024-04-17T06:06:56.931997300Z",
     "start_time": "2024-04-17T06:06:56.881464700Z"
    }
   },
   "outputs": [],
   "source": [
    "import pandas as pd\n",
    "\n",
    "df = pd.read_csv('./csv/imgPairsForTraining.csv')"
   ]
  },
  {
   "cell_type": "code",
   "outputs": [],
   "source": [
    "change = list(df.change.dropna())\n",
    "change_name = [1]*len(change)\n",
    "good = list(df.good.dropna())\n",
    "bad = list(df.bad.dropna())\n",
    "comb = good+bad\n",
    "no_change_name = [0]*(len(comb))\n",
    "# 1 if change, 0 if no change"
   ],
   "metadata": {
    "collapsed": false,
    "ExecuteTime": {
     "end_time": "2024-04-17T06:06:57.755005900Z",
     "start_time": "2024-04-17T06:06:57.749296700Z"
    }
   },
   "id": "dc04b6513eade05f",
   "execution_count": 130
  },
  {
   "cell_type": "code",
   "outputs": [],
   "source": [
    "new_df = pd.DataFrame(data={\"img\":change+comb,\"change\":change_name+no_change_name})\n",
    "new_df = new_df.astype(\"Int64\")"
   ],
   "metadata": {
    "collapsed": false,
    "ExecuteTime": {
     "end_time": "2024-04-17T06:08:21.383200400Z",
     "start_time": "2024-04-17T06:08:21.374178800Z"
    }
   },
   "id": "9fd328c1b775e2ba",
   "execution_count": 133
  },
  {
   "cell_type": "code",
   "outputs": [],
   "source": [
    "new_df.to_csv('./csv/imgsForTrainingByChange.csv',index=False)"
   ],
   "metadata": {
    "collapsed": false,
    "ExecuteTime": {
     "end_time": "2024-04-17T06:08:23.760207900Z",
     "start_time": "2024-04-17T06:08:23.755703300Z"
    }
   },
   "id": "5624d3cef2fb5f53",
   "execution_count": 134
  }
 ],
 "metadata": {
  "kernelspec": {
   "display_name": "Python 3",
   "language": "python",
   "name": "python3"
  },
  "language_info": {
   "codemirror_mode": {
    "name": "ipython",
    "version": 2
   },
   "file_extension": ".py",
   "mimetype": "text/x-python",
   "name": "python",
   "nbconvert_exporter": "python",
   "pygments_lexer": "ipython2",
   "version": "2.7.6"
  }
 },
 "nbformat": 4,
 "nbformat_minor": 5
}
