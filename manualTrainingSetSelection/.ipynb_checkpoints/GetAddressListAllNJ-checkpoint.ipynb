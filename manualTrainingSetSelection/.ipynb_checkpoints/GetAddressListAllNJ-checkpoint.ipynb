{
 "cells": [
  {
   "cell_type": "markdown",
   "metadata": {},
   "source": [
    "#### This file will serve to build a list of addresses in a specific county\n"
   ]
  },
  {
   "cell_type": "code",
   "execution_count": 2,
   "metadata": {},
   "outputs": [],
   "source": [
    "import pandas as pd\n",
    "import numpy as np\n",
    "import geopandas as gpd\n",
    "import fiona\n",
    "\n",
    "## repeated printouts\n",
    "from IPython.core.interactiveshell import InteractiveShell\n",
    "InteractiveShell.ast_node_interactivity = \"all\"\n",
    "\n",
    "req_cols = ['FULLADDR','POST_CODE','POST_COMM','COUNTY','PLACE_TYPE','PLACEMENT','LONG_', 'LAT']\n",
    "\n",
    "data = gpd.read_file('../../Downloads/Addr_NG911.gdb/Addr_NG911.gdb', include_fields=req_cols)\n",
    "# 8m 22.4s for full df"
   ]
  },
  {
   "cell_type": "code",
   "execution_count": 3,
   "metadata": {},
   "outputs": [
    {
     "data": {
      "text/html": [
       "<div>\n",
       "<style scoped>\n",
       "    .dataframe tbody tr th:only-of-type {\n",
       "        vertical-align: middle;\n",
       "    }\n",
       "\n",
       "    .dataframe tbody tr th {\n",
       "        vertical-align: top;\n",
       "    }\n",
       "\n",
       "    .dataframe thead th {\n",
       "        text-align: right;\n",
       "    }\n",
       "</style>\n",
       "<table border=\"1\" class=\"dataframe\">\n",
       "  <thead>\n",
       "    <tr style=\"text-align: right;\">\n",
       "      <th></th>\n",
       "      <th>COUNTY</th>\n",
       "      <th>FULLADDR</th>\n",
       "      <th>POST_COMM</th>\n",
       "      <th>POST_CODE</th>\n",
       "      <th>PLACE_TYPE</th>\n",
       "      <th>PLACEMENT</th>\n",
       "      <th>LONG_</th>\n",
       "      <th>LAT</th>\n",
       "    </tr>\n",
       "  </thead>\n",
       "  <tbody>\n",
       "    <tr>\n",
       "      <th>1866552</th>\n",
       "      <td>882276</td>\n",
       "      <td>39 Pacio Court</td>\n",
       "      <td>Roseland</td>\n",
       "      <td>07068</td>\n",
       "      <td>Residence</td>\n",
       "      <td>Structure - Rooftop</td>\n",
       "      <td>-74.308694</td>\n",
       "      <td>40.828572</td>\n",
       "    </tr>\n",
       "  </tbody>\n",
       "</table>\n",
       "</div>"
      ],
      "text/plain": [
       "         COUNTY        FULLADDR POST_COMM POST_CODE PLACE_TYPE  \\\n",
       "1866552  882276  39 Pacio Court  Roseland     07068  Residence   \n",
       "\n",
       "                   PLACEMENT      LONG_        LAT  \n",
       "1866552  Structure - Rooftop -74.308694  40.828572  "
      ]
     },
     "execution_count": 3,
     "metadata": {},
     "output_type": "execute_result"
    }
   ],
   "source": [
    "#useful = ['FULLADDR','POST_CODE','POST_COMM','COUNTY','PLACE_TYPE','PLACEMENT','LONG_', 'LAT']\n",
    "\n",
    "df = data.drop(\"geometry\", axis=1).copy()\n",
    "df.sample(1)"
   ]
  },
  {
   "cell_type": "code",
   "execution_count": 4,
   "metadata": {},
   "outputs": [
    {
     "data": {
      "text/html": [
       "<div>\n",
       "<style scoped>\n",
       "    .dataframe tbody tr th:only-of-type {\n",
       "        vertical-align: middle;\n",
       "    }\n",
       "\n",
       "    .dataframe tbody tr th {\n",
       "        vertical-align: top;\n",
       "    }\n",
       "\n",
       "    .dataframe thead th {\n",
       "        text-align: right;\n",
       "    }\n",
       "</style>\n",
       "<table border=\"1\" class=\"dataframe\">\n",
       "  <thead>\n",
       "    <tr style=\"text-align: right;\">\n",
       "      <th></th>\n",
       "      <th>COUNTY</th>\n",
       "      <th>FULLADDR</th>\n",
       "      <th>POST_COMM</th>\n",
       "      <th>POST_CODE</th>\n",
       "      <th>PLACE_TYPE</th>\n",
       "      <th>PLACEMENT</th>\n",
       "      <th>LONG_</th>\n",
       "      <th>LAT</th>\n",
       "    </tr>\n",
       "  </thead>\n",
       "  <tbody>\n",
       "    <tr>\n",
       "      <th>271</th>\n",
       "      <td>882910</td>\n",
       "      <td>405 Union Avenue</td>\n",
       "      <td>Brielle</td>\n",
       "      <td>08730</td>\n",
       "      <td>COMM</td>\n",
       "      <td>Structure - Rooftop</td>\n",
       "      <td>-74.056324</td>\n",
       "      <td>40.113623</td>\n",
       "    </tr>\n",
       "    <tr>\n",
       "      <th>358</th>\n",
       "      <td>882228</td>\n",
       "      <td>40 Pittstown Road</td>\n",
       "      <td>Clinton</td>\n",
       "      <td>08809</td>\n",
       "      <td>Hospital</td>\n",
       "      <td>Structure - Rooftop</td>\n",
       "      <td>-74.926723</td>\n",
       "      <td>40.627704</td>\n",
       "    </tr>\n",
       "    <tr>\n",
       "      <th>359</th>\n",
       "      <td>882228</td>\n",
       "      <td>40 Pittstown Road</td>\n",
       "      <td>Clinton</td>\n",
       "      <td>08809</td>\n",
       "      <td>Hospital</td>\n",
       "      <td>Structure - Rooftop</td>\n",
       "      <td>-74.927245</td>\n",
       "      <td>40.627334</td>\n",
       "    </tr>\n",
       "    <tr>\n",
       "      <th>360</th>\n",
       "      <td>882228</td>\n",
       "      <td>40 Pittstown Road</td>\n",
       "      <td>Clinton</td>\n",
       "      <td>08809</td>\n",
       "      <td>Hospital</td>\n",
       "      <td>Structure - Rooftop</td>\n",
       "      <td>-74.927305</td>\n",
       "      <td>40.627364</td>\n",
       "    </tr>\n",
       "    <tr>\n",
       "      <th>361</th>\n",
       "      <td>882228</td>\n",
       "      <td>40 Pittstown Road</td>\n",
       "      <td>Clinton</td>\n",
       "      <td>08809</td>\n",
       "      <td>Hospital</td>\n",
       "      <td>Structure - Rooftop</td>\n",
       "      <td>-74.926955</td>\n",
       "      <td>40.627527</td>\n",
       "    </tr>\n",
       "    <tr>\n",
       "      <th>362</th>\n",
       "      <td>882228</td>\n",
       "      <td>40 Pittstown Road</td>\n",
       "      <td>Clinton</td>\n",
       "      <td>08809</td>\n",
       "      <td>Hospital</td>\n",
       "      <td>Structure - Rooftop</td>\n",
       "      <td>-74.928485</td>\n",
       "      <td>40.629972</td>\n",
       "    </tr>\n",
       "    <tr>\n",
       "      <th>363</th>\n",
       "      <td>882275</td>\n",
       "      <td>1676 East Landis Avenue</td>\n",
       "      <td>Vineland</td>\n",
       "      <td>08361</td>\n",
       "      <td>Hospital</td>\n",
       "      <td>Property Access Point</td>\n",
       "      <td>-74.995430</td>\n",
       "      <td>39.484836</td>\n",
       "    </tr>\n",
       "    <tr>\n",
       "      <th>446</th>\n",
       "      <td>882910</td>\n",
       "      <td>360 Main Street</td>\n",
       "      <td>Matawan</td>\n",
       "      <td>07747</td>\n",
       "      <td>Industrial</td>\n",
       "      <td>Structure - Rooftop</td>\n",
       "      <td>-74.238636</td>\n",
       "      <td>40.401410</td>\n",
       "    </tr>\n",
       "    <tr>\n",
       "      <th>461</th>\n",
       "      <td>882228</td>\n",
       "      <td>40 Pittstown Road</td>\n",
       "      <td>Clinton</td>\n",
       "      <td>08809</td>\n",
       "      <td>Hospital</td>\n",
       "      <td>Structure - Rooftop</td>\n",
       "      <td>-74.926663</td>\n",
       "      <td>40.627158</td>\n",
       "    </tr>\n",
       "    <tr>\n",
       "      <th>462</th>\n",
       "      <td>882228</td>\n",
       "      <td>40 Pittstown Road</td>\n",
       "      <td>Clinton</td>\n",
       "      <td>08809</td>\n",
       "      <td>Hospital</td>\n",
       "      <td>Structure - Rooftop</td>\n",
       "      <td>-74.928565</td>\n",
       "      <td>40.628133</td>\n",
       "    </tr>\n",
       "  </tbody>\n",
       "</table>\n",
       "</div>"
      ],
      "text/plain": [
       "     COUNTY                 FULLADDR POST_COMM POST_CODE  PLACE_TYPE  \\\n",
       "271  882910         405 Union Avenue   Brielle     08730        COMM   \n",
       "358  882228        40 Pittstown Road   Clinton     08809    Hospital   \n",
       "359  882228        40 Pittstown Road   Clinton     08809    Hospital   \n",
       "360  882228        40 Pittstown Road   Clinton     08809    Hospital   \n",
       "361  882228        40 Pittstown Road   Clinton     08809    Hospital   \n",
       "362  882228        40 Pittstown Road   Clinton     08809    Hospital   \n",
       "363  882275  1676 East Landis Avenue  Vineland     08361    Hospital   \n",
       "446  882910          360 Main Street   Matawan     07747  Industrial   \n",
       "461  882228        40 Pittstown Road   Clinton     08809    Hospital   \n",
       "462  882228        40 Pittstown Road   Clinton     08809    Hospital   \n",
       "\n",
       "                 PLACEMENT      LONG_        LAT  \n",
       "271    Structure - Rooftop -74.056324  40.113623  \n",
       "358    Structure - Rooftop -74.926723  40.627704  \n",
       "359    Structure - Rooftop -74.927245  40.627334  \n",
       "360    Structure - Rooftop -74.927305  40.627364  \n",
       "361    Structure - Rooftop -74.926955  40.627527  \n",
       "362    Structure - Rooftop -74.928485  40.629972  \n",
       "363  Property Access Point -74.995430  39.484836  \n",
       "446    Structure - Rooftop -74.238636  40.401410  \n",
       "461    Structure - Rooftop -74.926663  40.627158  \n",
       "462    Structure - Rooftop -74.928565  40.628133  "
      ]
     },
     "execution_count": 4,
     "metadata": {},
     "output_type": "execute_result"
    }
   ],
   "source": [
    "df[~df[\"PLACE_TYPE\"].isin([\"Residence\", \"Unknown\"])].head(10)"
   ]
  },
  {
   "cell_type": "code",
   "execution_count": 5,
   "metadata": {},
   "outputs": [
    {
     "data": {
      "text/plain": [
       "Residence           3136410\n",
       "Unknown              476588\n",
       "Industrial            24768\n",
       "Outdoors              14567\n",
       "Office                10507\n",
       "School                 3629\n",
       "COMM                   2702\n",
       "Store                  2144\n",
       "Shopping-Area          1772\n",
       "Hospital               1124\n",
       "Other                  1024\n",
       "Government              663\n",
       "EMER                    300\n",
       "Place-Of-Worship        276\n",
       "Restaurant              238\n",
       "Hotel                   176\n",
       "Public                  172\n",
       "Warehouse                95\n",
       "Street                   86\n",
       "Bank                     31\n",
       "Parking                  29\n",
       "Cafe                     23\n",
       "TRAN                     22\n",
       "Club                     17\n",
       "Prison                   14\n",
       "Bar                      12\n",
       "Theater                   9\n",
       "Library                   5\n",
       "Stadium                   3\n",
       "Classroom                 2\n",
       "Arena                     2\n",
       "Public-Transport          2\n",
       "Train-Station             1\n",
       "Name: PLACE_TYPE, dtype: int64"
      ]
     },
     "execution_count": 5,
     "metadata": {},
     "output_type": "execute_result"
    }
   ],
   "source": [
    "df[\"PLACE_TYPE\"].value_counts()\n",
    "# Outdoors == farm land??\n",
    "# Hospitals, shopping --> gentrifying??"
   ]
  },
  {
   "cell_type": "code",
   "execution_count": 6,
   "metadata": {},
   "outputs": [],
   "source": [
    "df[\"PLACE_TYPE\"].mask(~df[\"PLACE_TYPE\"].isin(['Residence', 'Unknown', 'Industrial', 'Outdoors']), \"Commercial\", inplace=True)\n",
    "# Sets all other possible Place Types to commercial as it fits that category"
   ]
  },
  {
   "cell_type": "code",
   "execution_count": 7,
   "metadata": {},
   "outputs": [
    {
     "data": {
      "text/plain": [
       "24000"
      ]
     },
     "execution_count": 7,
     "metadata": {},
     "output_type": "execute_result"
    },
    {
     "data": {
      "text/plain": [
       "16000"
      ]
     },
     "execution_count": 7,
     "metadata": {},
     "output_type": "execute_result"
    },
    {
     "data": {
      "text/plain": [
       "47000"
      ]
     },
     "execution_count": 7,
     "metadata": {},
     "output_type": "execute_result"
    }
   ],
   "source": [
    "# morris county land size: 1.24713107e9 m^2, 100m apart for 5m width roadway\n",
    "MORRIS_COUNTY_ADDR_N = (1247131070/(100*5))\n",
    "MORRIS_COUNTY_ADDR_N_Actual = int(MORRIS_COUNTY_ADDR_N / 100000)*1000\n",
    "MORRIS_COUNTY_ADDR_N_Actual\n",
    "\n",
    "MIDDLESEX_COUNTY_ADDR_N = (836307161/(100*5))\n",
    "MIDDLESEX_COUNTY_ADDR_N_Actual = int(MIDDLESEX_COUNTY_ADDR_N / 100000)*1000\n",
    "MIDDLESEX_COUNTY_ADDR_N_Actual\n",
    "\n",
    "OCEAN_COUNTY_ADDR_N = (2369839120/(100*5))\n",
    "OCEAN_COUNTY_ADDR_N_Actual = int(OCEAN_COUNTY_ADDR_N / 100000)*1000\n",
    "OCEAN_COUNTY_ADDR_N_Actual\n"
   ]
  },
  {
   "cell_type": "code",
   "execution_count": 8,
   "metadata": {},
   "outputs": [],
   "source": [
    "raw_boundry = pd.read_csv(\"../../Downloads/County_Boundaries_of_NJ.csv\")\n",
    "boundry_df_list = ['COUNTY','GNIS_NAME', 'GNIS'] # Will help cross reference actual county names and GNIS values\n",
    "boundry_df = raw_boundry.copy()[boundry_df_list]"
   ]
  },
  {
   "cell_type": "code",
   "execution_count": 9,
   "metadata": {},
   "outputs": [
    {
     "data": {
      "text/html": [
       "<div>\n",
       "<style scoped>\n",
       "    .dataframe tbody tr th:only-of-type {\n",
       "        vertical-align: middle;\n",
       "    }\n",
       "\n",
       "    .dataframe tbody tr th {\n",
       "        vertical-align: top;\n",
       "    }\n",
       "\n",
       "    .dataframe thead th {\n",
       "        text-align: right;\n",
       "    }\n",
       "</style>\n",
       "<table border=\"1\" class=\"dataframe\">\n",
       "  <thead>\n",
       "    <tr style=\"text-align: right;\">\n",
       "      <th></th>\n",
       "      <th>FULLADDR</th>\n",
       "      <th>POST_COMM</th>\n",
       "      <th>POST_CODE</th>\n",
       "      <th>PLACE_TYPE</th>\n",
       "      <th>PLACEMENT</th>\n",
       "      <th>LONG_</th>\n",
       "      <th>LAT</th>\n",
       "      <th>COUNTY_y</th>\n",
       "      <th>GNIS_NAME</th>\n",
       "      <th>GNIS</th>\n",
       "    </tr>\n",
       "  </thead>\n",
       "  <tbody>\n",
       "    <tr>\n",
       "      <th>0</th>\n",
       "      <td>349 Fairview Avenue</td>\n",
       "      <td>Orange</td>\n",
       "      <td>07050</td>\n",
       "      <td>Residence</td>\n",
       "      <td>Structure - Rooftop</td>\n",
       "      <td>-74.240721</td>\n",
       "      <td>40.761214</td>\n",
       "      <td>ESSEX</td>\n",
       "      <td>County of Essex</td>\n",
       "      <td>882276</td>\n",
       "    </tr>\n",
       "  </tbody>\n",
       "</table>\n",
       "</div>"
      ],
      "text/plain": [
       "              FULLADDR POST_COMM POST_CODE PLACE_TYPE            PLACEMENT  \\\n",
       "0  349 Fairview Avenue    Orange     07050  Residence  Structure - Rooftop   \n",
       "\n",
       "       LONG_        LAT COUNTY_y        GNIS_NAME    GNIS  \n",
       "0 -74.240721  40.761214    ESSEX  County of Essex  882276  "
      ]
     },
     "execution_count": 9,
     "metadata": {},
     "output_type": "execute_result"
    }
   ],
   "source": [
    "df[\"COUNTY\"] = df[\"COUNTY\"].astype(np.int64) # need to convert this column into int64\n",
    "\n",
    "combined = df.merge(boundry_df, left_on='COUNTY', right_on='GNIS').drop(\"COUNTY_x\", axis=1)\n",
    "combined.head(1)"
   ]
  },
  {
   "cell_type": "code",
   "execution_count": 10,
   "metadata": {},
   "outputs": [],
   "source": [
    "# need to build: '950 Cambridge St, Cambridge, MA 02141' because lat long is too inaccurate\n",
    "combined[\"ADDRESS\"] = combined[\"FULLADDR\"] + \", \" +  combined[\"COUNTY_y\"] + \", NJ \" + combined[\"POST_CODE\"]"
   ]
  },
  {
   "cell_type": "code",
   "execution_count": 14,
   "metadata": {},
   "outputs": [],
   "source": [
    "#combined[combined[\"COUNTY_y\"].str.startswith('MONR', na=False)][\"COUNTY_y\"].value_counts() # used to find counties in long df\n",
    "# len(combined[combined[\"COUNTY_y\"] == \"MORRIS\"][\"ADDRESS\"]) = 202132\n",
    "morris_address_list = combined[combined[\"COUNTY_y\"] == \"MORRIS\"][[\"PLACE_TYPE\",\"ADDRESS\",\"LONG_\",\"LAT\"]]\n",
    "middlesex_address_list = combined[combined[\"COUNTY_y\"] == \"MIDDLESEX\"][[\"PLACE_TYPE\",\"ADDRESS\",\"LAT\",\"LONG_\"]]\n",
    "ocean_address_list = combined[combined[\"COUNTY_y\"] == \"OCEAN\"][[\"PLACE_TYPE\",\"ADDRESS\",\"LAT\",\"LONG_\"]]"
   ]
  },
  {
   "cell_type": "code",
   "execution_count": 15,
   "metadata": {},
   "outputs": [],
   "source": [
    "morris_address_list.to_csv('../../Downloads/morris_address_list.csv', index=False)\n",
    "middlesex_address_list.to_csv('../../Downloads/middlesex_address_list.csv', index=False)\n",
    "ocean_address_list.to_csv('../../Downloads/ocean_address_list.csv', index=False)\n",
    "\n",
    "# Unfortuntely, we cannot subset the number of addresses here because we have to make sure they are valid addresses, therefore, we would need backups if they fail. \n",
    "# We shall export entire sets instead."
   ]
  }
 ],
 "metadata": {
  "kernelspec": {
   "display_name": ".venv",
   "language": "python",
   "name": "python3"
  },
  "language_info": {
   "codemirror_mode": {
    "name": "ipython",
    "version": 3
   },
   "file_extension": ".py",
   "mimetype": "text/x-python",
   "name": "python",
   "nbconvert_exporter": "python",
   "pygments_lexer": "ipython3",
   "version": "3.9.12"
  },
  "orig_nbformat": 4
 },
 "nbformat": 4,
 "nbformat_minor": 2
}
