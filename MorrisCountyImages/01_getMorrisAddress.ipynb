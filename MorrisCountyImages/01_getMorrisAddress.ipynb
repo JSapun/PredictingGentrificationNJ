{
 "cells": [
  {
   "cell_type": "markdown",
   "source": [
    "### This file gets a list of addresses in Morris county by neighborhood"
   ],
   "metadata": {
    "collapsed": false
   },
   "id": "f63f8f809675676e"
  },
  {
   "cell_type": "code",
   "execution_count": 330,
   "id": "initial_id",
   "metadata": {
    "collapsed": true,
    "ExecuteTime": {
     "end_time": "2024-04-22T04:16:44.984368Z",
     "start_time": "2024-04-22T04:16:44.701722900Z"
    }
   },
   "outputs": [],
   "source": [
    "import pandas as pd\n",
    "import numpy as np\n",
    "from shapely.geometry import Point\n",
    "import geopandas as gpd\n",
    "from tqdm import tqdm\n",
    "\n",
    "req_cols = ['FULLADDR','POST_CODE','POST_COMM','COUNTY','PLACE_TYPE','PLACEMENT','LONG_', 'LAT']\n",
    "data = gpd.read_file('../Data/Addr_NG911.gdb', include_fields=req_cols) # 5m 51s for full df"
   ]
  },
  {
   "cell_type": "markdown",
   "source": [
    "### 1.) Subset initial address dataset to Morris County only"
   ],
   "metadata": {
    "collapsed": false
   },
   "id": "11688d6fe7c83f3d"
  },
  {
   "cell_type": "code",
   "outputs": [],
   "source": [
    "df = data.drop(\"geometry\", axis=1).copy()\n",
    "df[\"PLACE_TYPE\"] = df[\"PLACE_TYPE\"].mask(~df[\"PLACE_TYPE\"].isin(['Residence', 'Unknown', 'Industrial', 'Outdoors']), \"Commercial\") # Sets all other possible Place Types to commercial as it fits that category\n",
    "df.dropna(inplace=True)\n",
    "df['COUNTY'].isnull().value_counts()\n",
    "df[\"COUNTY\"] = df[\"COUNTY\"].astype(np.int64) # need to convert this column into int64\n",
    "df = df[df[\"COUNTY\"]==882231] # Morris County\n",
    "df[\"ADDRESS\"] = df[\"FULLADDR\"] + \", \" + df[\"POST_COMM\"] + \", NJ \" + df[\"POST_CODE\"]\n",
    "morris_add_list = df[[\"POST_COMM\",\"PLACE_TYPE\",\"ADDRESS\",\"LONG_\",\"LAT\"]]"
   ],
   "metadata": {
    "collapsed": false
   },
   "id": "49e434945c344989"
  },
  {
   "cell_type": "markdown",
   "source": [
    "### 2.) Get town list from municipalities geofiles and save"
   ],
   "metadata": {
    "collapsed": false
   },
   "id": "e9081c5cb9adb778"
  },
  {
   "cell_type": "code",
   "outputs": [],
   "source": [
    "filename = \"../Data/morrisMunicipalities/Municipalities.shp\"\n",
    "gdf = gpd.read_file(filename).reset_index()\n",
    "town_list = []\n",
    "\n",
    "for index in range(39):\n",
    "    row = gdf[gdf[\"index\"] == index]\n",
    "    town = row.Label.values[0]\n",
    "    town_list.append(town)\n",
    "\n",
    "towns = pd.DataFrame({'towns': town_list})\n",
    "towns.to_csv(\"./csv/morris_towns.csv\", index=False)"
   ],
   "metadata": {
    "collapsed": false
   },
   "id": "522917e0aae20479"
  },
  {
   "cell_type": "markdown",
   "source": [
    "### 3.) Using a dict to try to replace as many town names as possible before the problem"
   ],
   "metadata": {
    "collapsed": false
   },
   "id": "9dc9c662e1c618de"
  },
  {
   "cell_type": "code",
   "outputs": [],
   "source": [
    "# History for townships needed to be researched as some neighbourhoods were represented by different names, for instance, \n",
    "# long valley is a census-designated place (CDP) and most addresses in Washington Twp are in Long Valley.\n",
    " # 'Dover Town' --> Dover\n",
    " #'Chatham Township',\n",
    " #'Rockaway Borough',\n",
    " #'Mendham Borough',\n",
    " #'Mount Olive Township', --> budd lake\n",
    " #'Morristown Town',\n",
    " #'Washington Township', --> long valley\n",
    " #'Mount Arlington Borough',\n",
    " #'Chester Township',\n",
    " #'Montville Township',\n",
    " #'Parsippany-Troy Hills Township',\n",
    " #'Butler Borough',\n",
    " #'Long Hill Township', --> 'Stirling','Millington','Gillette'\n",
    " #'Victory Gardens Borough', --> Dover (small section, usually put as dover)\n",
    " #'Jefferson Township', --> 'Oak Ridge', 'Lake Hopatcong'\n",
    " #'Chester Borough',\n",
    " #'Mountain Lakes Borough',\n",
    " #'Denville Township',\n",
    " #'Mendham Township',\n",
    " #'Madison Borough',\n",
    " #'Pequannock Township',\n",
    " #'Hanover Township', --> 'Cedar Knolls','Whippany'\n",
    " #'Lincoln Park Borough',\n",
    " #'Kinnelon Borough',\n",
    " #'Morris Plains Borough',\n",
    " #'Netcong Borough',\n",
    " #'Harding Township', --> 'Green Village','New Vernon'\n",
    " #'Chatham Borough',\n",
    " #'Roxbury Township', --> 'Ledgewood', 'Succasunna', 'Kenvil'\n",
    " #'Morris Township',\n",
    " #'Wharton Borough',\n",
    " #'Boonton Town',\n",
    " #'Florham Park Borough',\n",
    " #'Randolph Township',\n",
    " #'Boonton Township',\n",
    " #'Rockaway Township',\n",
    " #'Mine Hill Township',\n",
    " #'East Hanover Township',\n",
    " #'Riverdale'\n",
    " \n",
    "problems = ['Chatham Borough','Chatham Township',\n",
    "        'Boonton Town', 'Boonton Township',\n",
    "        'Mendham Borough', 'Mendham Township',\n",
    "        'Rockaway Borough', 'Rockaway Township',\n",
    "        'Chester Borough', 'Chester Township',\n",
    "        'Morristown Town', 'Morris Township',\n",
    "        'Dover Town', 'Victory Gardens Borough']\n",
    "non_problems =  list(set(towns) - set(problems))"
   ],
   "metadata": {
    "collapsed": false,
    "ExecuteTime": {
     "end_time": "2024-04-22T04:44:37.768351100Z",
     "start_time": "2024-04-22T04:44:37.762440Z"
    }
   },
   "id": "f4cc5ad49beeb1c2",
   "execution_count": 377
  },
  {
   "cell_type": "code",
   "outputs": [],
   "source": [
    "some_dict = {'Randolph':'Randolph Township','Madison':'Madison Borough','Parsippany':'Parsippany-Troy Hills Township','Kinnelon':'Kinnelon Borough','Morris Plains':'Morris Plains Borough','Butler':'Butler Borough','Denville':'Denville Township','East Hanover':'East Hanover Township','Montville':'Montville Township','Wharton':'Wharton Borough','Lincoln Park':'Lincoln Park Borough','Florham Park':'Florham Park Borough','Mine Hill':'Mine Hill Township','Netcong':'Netcong Borough','Mountain Lakes':'Mountain Lakes Borough','Mount Arlington':'Mount Arlington Borough','Pequannock':'Pequannock Township','Budd Lake':'Mount Olive Township','Long Valley':'Washington Township','Riverdale':'Riverdale Borough','Stirling':'Long Hill Township','Millington':'Long Hill Township','Gillette':'Long Hill Township','Oak Ridge':'Jefferson Township','Lake Hopatcong':'Jefferson Township','Cedar Knolls':'Hanover Township','Whippany':'Hanover Township','Green Village':'Harding Township','New Vernon':'Harding Township','Ledgewood':'Roxbury Township','Succasunna':'Roxbury Township','Kenvil':'Roxbury Township','Chatham':'Chatham','Boonton':'Boonton','Mendham':'Mendham','Rockaway':'Rockaway','Chester':'Chester','Morristown':'Morristown','Dover':'Dover'}\n",
    "\n",
    "p = ['Chatham','Boonton','Mendham','Rockaway','Chester','Morristown', 'Dover']"
   ],
   "metadata": {
    "collapsed": false,
    "ExecuteTime": {
     "end_time": "2024-04-22T04:44:39.401544500Z",
     "start_time": "2024-04-22T04:44:39.393940800Z"
    }
   },
   "id": "2ec38c64c0ee5a5b",
   "execution_count": 378
  },
  {
   "cell_type": "code",
   "outputs": [
    {
     "ename": "NameError",
     "evalue": "name 'morris_add_list' is not defined",
     "output_type": "error",
     "traceback": [
      "\u001B[1;31m---------------------------------------------------------------------------\u001B[0m",
      "\u001B[1;31mNameError\u001B[0m                                 Traceback (most recent call last)",
      "Cell \u001B[1;32mIn[379], line 1\u001B[0m\n\u001B[1;32m----> 1\u001B[0m morris_add \u001B[38;5;241m=\u001B[39m \u001B[43mmorris_add_list\u001B[49m\u001B[38;5;241m.\u001B[39mcopy()\n\u001B[0;32m      2\u001B[0m morris_add\u001B[38;5;241m.\u001B[39mreplace({\u001B[38;5;124m'\u001B[39m\u001B[38;5;124mPOST_COMM\u001B[39m\u001B[38;5;124m'\u001B[39m: some_dict}, inplace\u001B[38;5;241m=\u001B[39m\u001B[38;5;28;01mTrue\u001B[39;00m)\n",
      "\u001B[1;31mNameError\u001B[0m: name 'morris_add_list' is not defined"
     ]
    }
   ],
   "source": [
    "morris_add = morris_add_list.copy()\n",
    "morris_add.replace({'POST_COMM': some_dict}, inplace=True)"
   ],
   "metadata": {
    "collapsed": false,
    "ExecuteTime": {
     "end_time": "2024-04-22T04:45:31.868985Z",
     "start_time": "2024-04-22T04:45:31.851821100Z"
    }
   },
   "id": "320dc7cccce2c809",
   "execution_count": 379
  },
  {
   "cell_type": "code",
   "outputs": [],
   "source": [
    "df_good = morris_add[morris_add.POST_COMM.isin(non_problems)].reset_index(drop=True)\n",
    "df_bad = morris_add[morris_add.POST_COMM.isin(p)].reset_index(drop=True)"
   ],
   "metadata": {
    "collapsed": false,
    "ExecuteTime": {
     "end_time": "2024-04-22T04:16:45.303213200Z",
     "start_time": "2024-04-22T04:16:45.251924900Z"
    }
   },
   "id": "758139417ee2ed22",
   "execution_count": 335
  },
  {
   "cell_type": "markdown",
   "source": [
    "### 4.) Now we need to sort by coordinates to identify towns"
   ],
   "metadata": {
    "collapsed": false
   },
   "id": "42f07abcb8eea828"
  },
  {
   "cell_type": "code",
   "outputs": [
    {
     "data": {
      "text/plain": "        POST_COMM  PLACE_TYPE                                        ADDRESS  \\\n0         Chatham  Commercial             480 Main Street, Chatham, NJ 07928   \n1      Morristown  Commercial             Mendham Road, Morristown, NJ 07960   \n2      Morristown   Residence  12 Wheatsheaf Farm Road, Morristown, NJ 07960   \n3      Morristown   Residence   2 Wheatsheaf Farm Road, Morristown, NJ 07960   \n4         Boonton   Residence         140 Chestnut Street, Boonton, NJ 07005   \n...           ...         ...                                            ...   \n55153       Dover     Unknown       171 West Clinton Street, Dover, NJ 07801   \n55154  Morristown   Residence            2 Symor Drive, Morristown, NJ 07960   \n55155  Morristown   Residence            1 Symor Drive, Morristown, NJ 07960   \n55156     Chester   Residence          24 Mill Ridge Lane, Chester, NJ 07930   \n55157     Chester   Residence          32 Mill Ridge Lane, Chester, NJ 07930   \n\n           LONG_        LAT  \n0     -74.390045  40.745433  \n1     -74.531211  40.788261  \n2     -74.502242  40.802582  \n3     -74.502903  40.802872  \n4     -74.423443  40.908487  \n...          ...        ...  \n55153 -74.563845  40.891246  \n55154 -74.457119  40.775384  \n55155 -74.457255  40.775971  \n55156 -74.706008  40.786139  \n55157 -74.706700  40.786870  \n\n[55158 rows x 5 columns]",
      "text/html": "<div>\n<style scoped>\n    .dataframe tbody tr th:only-of-type {\n        vertical-align: middle;\n    }\n\n    .dataframe tbody tr th {\n        vertical-align: top;\n    }\n\n    .dataframe thead th {\n        text-align: right;\n    }\n</style>\n<table border=\"1\" class=\"dataframe\">\n  <thead>\n    <tr style=\"text-align: right;\">\n      <th></th>\n      <th>POST_COMM</th>\n      <th>PLACE_TYPE</th>\n      <th>ADDRESS</th>\n      <th>LONG_</th>\n      <th>LAT</th>\n    </tr>\n  </thead>\n  <tbody>\n    <tr>\n      <th>0</th>\n      <td>Chatham</td>\n      <td>Commercial</td>\n      <td>480 Main Street, Chatham, NJ 07928</td>\n      <td>-74.390045</td>\n      <td>40.745433</td>\n    </tr>\n    <tr>\n      <th>1</th>\n      <td>Morristown</td>\n      <td>Commercial</td>\n      <td>Mendham Road, Morristown, NJ 07960</td>\n      <td>-74.531211</td>\n      <td>40.788261</td>\n    </tr>\n    <tr>\n      <th>2</th>\n      <td>Morristown</td>\n      <td>Residence</td>\n      <td>12 Wheatsheaf Farm Road, Morristown, NJ 07960</td>\n      <td>-74.502242</td>\n      <td>40.802582</td>\n    </tr>\n    <tr>\n      <th>3</th>\n      <td>Morristown</td>\n      <td>Residence</td>\n      <td>2 Wheatsheaf Farm Road, Morristown, NJ 07960</td>\n      <td>-74.502903</td>\n      <td>40.802872</td>\n    </tr>\n    <tr>\n      <th>4</th>\n      <td>Boonton</td>\n      <td>Residence</td>\n      <td>140 Chestnut Street, Boonton, NJ 07005</td>\n      <td>-74.423443</td>\n      <td>40.908487</td>\n    </tr>\n    <tr>\n      <th>...</th>\n      <td>...</td>\n      <td>...</td>\n      <td>...</td>\n      <td>...</td>\n      <td>...</td>\n    </tr>\n    <tr>\n      <th>55153</th>\n      <td>Dover</td>\n      <td>Unknown</td>\n      <td>171 West Clinton Street, Dover, NJ 07801</td>\n      <td>-74.563845</td>\n      <td>40.891246</td>\n    </tr>\n    <tr>\n      <th>55154</th>\n      <td>Morristown</td>\n      <td>Residence</td>\n      <td>2 Symor Drive, Morristown, NJ 07960</td>\n      <td>-74.457119</td>\n      <td>40.775384</td>\n    </tr>\n    <tr>\n      <th>55155</th>\n      <td>Morristown</td>\n      <td>Residence</td>\n      <td>1 Symor Drive, Morristown, NJ 07960</td>\n      <td>-74.457255</td>\n      <td>40.775971</td>\n    </tr>\n    <tr>\n      <th>55156</th>\n      <td>Chester</td>\n      <td>Residence</td>\n      <td>24 Mill Ridge Lane, Chester, NJ 07930</td>\n      <td>-74.706008</td>\n      <td>40.786139</td>\n    </tr>\n    <tr>\n      <th>55157</th>\n      <td>Chester</td>\n      <td>Residence</td>\n      <td>32 Mill Ridge Lane, Chester, NJ 07930</td>\n      <td>-74.706700</td>\n      <td>40.786870</td>\n    </tr>\n  </tbody>\n</table>\n<p>55158 rows × 5 columns</p>\n</div>"
     },
     "execution_count": 336,
     "metadata": {},
     "output_type": "execute_result"
    }
   ],
   "source": [
    "df_bad"
   ],
   "metadata": {
    "collapsed": false,
    "ExecuteTime": {
     "end_time": "2024-04-22T04:16:45.317154800Z",
     "start_time": "2024-04-22T04:16:45.304209500Z"
    }
   },
   "id": "e6acb845ec2a87c6",
   "execution_count": 336
  },
  {
   "cell_type": "code",
   "outputs": [
    {
     "data": {
      "text/plain": "   MuniID    GNIS                    Label      GISAcres  GISSQMiles  \\\n0    1409  885196               Dover Town   1745.225000    2.727000   \n1    1405  882194         Chatham Township   5981.966000    9.350000   \n2    1434  885374         Rockaway Borough   1356.812000    2.120000   \n3    1418  885296          Mendham Borough   3826.459000    5.979000   \n4    1424  885309          Morristown Town   1923.595000    3.006000   \n5    1407  882199         Chester Township  18694.754000   29.210000   \n6    1437  885427  Victory Gardens Borough     92.874000    0.145000   \n7    1406  885184          Chester Borough   1020.198000    1.594000   \n8    1419  882200         Mendham Township  11526.822000   18.011000   \n9    1404  885182          Chatham Borough   1522.128900    2.378300   \n10   1422  882193          Morris Township  10118.454000   15.810000   \n11   1401  885164             Boonton Town   1590.064000    2.484000   \n12   1402  882205         Boonton Township   5436.820000    8.495000   \n13   1435  882209        Rockaway Township  29366.709522   45.885484   \n\n      EditDate                                           geometry  \n0   2015-03-31  POLYGON ((-74.57408 40.88851, -74.57383 40.888...  \n1         None  POLYGON ((-74.43827 40.75237, -74.43821 40.752...  \n2   2019-07-11  POLYGON ((-74.50337 40.90782, -74.50337 40.907...  \n3         None  POLYGON ((-74.57082 40.75492, -74.57091 40.754...  \n4         None  POLYGON ((-74.47880 40.81453, -74.47791 40.813...  \n5   2019-07-12  POLYGON ((-74.64595 40.83721, -74.64594 40.837...  \n6   2016-04-20  POLYGON ((-74.54970 40.87542, -74.54857 40.876...  \n7         None  POLYGON ((-74.69934 40.77738, -74.69934 40.777...  \n8         None  POLYGON ((-74.54221 40.78945, -74.54223 40.789...  \n9         None  POLYGON ((-74.36515 40.74976, -74.36525 40.749...  \n10        None  POLYGON ((-74.43424 40.79114, -74.43433 40.790...  \n11  2019-08-23  POLYGON ((-74.39350 40.91741, -74.39294 40.915...  \n12  2019-07-10  POLYGON ((-74.40076 40.95957, -74.40089 40.958...  \n13  2019-07-10  MULTIPOLYGON (((-74.43977 41.04320, -74.43971 ...  ",
      "text/html": "<div>\n<style scoped>\n    .dataframe tbody tr th:only-of-type {\n        vertical-align: middle;\n    }\n\n    .dataframe tbody tr th {\n        vertical-align: top;\n    }\n\n    .dataframe thead th {\n        text-align: right;\n    }\n</style>\n<table border=\"1\" class=\"dataframe\">\n  <thead>\n    <tr style=\"text-align: right;\">\n      <th></th>\n      <th>MuniID</th>\n      <th>GNIS</th>\n      <th>Label</th>\n      <th>GISAcres</th>\n      <th>GISSQMiles</th>\n      <th>EditDate</th>\n      <th>geometry</th>\n    </tr>\n  </thead>\n  <tbody>\n    <tr>\n      <th>0</th>\n      <td>1409</td>\n      <td>885196</td>\n      <td>Dover Town</td>\n      <td>1745.225000</td>\n      <td>2.727000</td>\n      <td>2015-03-31</td>\n      <td>POLYGON ((-74.57408 40.88851, -74.57383 40.888...</td>\n    </tr>\n    <tr>\n      <th>1</th>\n      <td>1405</td>\n      <td>882194</td>\n      <td>Chatham Township</td>\n      <td>5981.966000</td>\n      <td>9.350000</td>\n      <td>None</td>\n      <td>POLYGON ((-74.43827 40.75237, -74.43821 40.752...</td>\n    </tr>\n    <tr>\n      <th>2</th>\n      <td>1434</td>\n      <td>885374</td>\n      <td>Rockaway Borough</td>\n      <td>1356.812000</td>\n      <td>2.120000</td>\n      <td>2019-07-11</td>\n      <td>POLYGON ((-74.50337 40.90782, -74.50337 40.907...</td>\n    </tr>\n    <tr>\n      <th>3</th>\n      <td>1418</td>\n      <td>885296</td>\n      <td>Mendham Borough</td>\n      <td>3826.459000</td>\n      <td>5.979000</td>\n      <td>None</td>\n      <td>POLYGON ((-74.57082 40.75492, -74.57091 40.754...</td>\n    </tr>\n    <tr>\n      <th>4</th>\n      <td>1424</td>\n      <td>885309</td>\n      <td>Morristown Town</td>\n      <td>1923.595000</td>\n      <td>3.006000</td>\n      <td>None</td>\n      <td>POLYGON ((-74.47880 40.81453, -74.47791 40.813...</td>\n    </tr>\n    <tr>\n      <th>5</th>\n      <td>1407</td>\n      <td>882199</td>\n      <td>Chester Township</td>\n      <td>18694.754000</td>\n      <td>29.210000</td>\n      <td>2019-07-12</td>\n      <td>POLYGON ((-74.64595 40.83721, -74.64594 40.837...</td>\n    </tr>\n    <tr>\n      <th>6</th>\n      <td>1437</td>\n      <td>885427</td>\n      <td>Victory Gardens Borough</td>\n      <td>92.874000</td>\n      <td>0.145000</td>\n      <td>2016-04-20</td>\n      <td>POLYGON ((-74.54970 40.87542, -74.54857 40.876...</td>\n    </tr>\n    <tr>\n      <th>7</th>\n      <td>1406</td>\n      <td>885184</td>\n      <td>Chester Borough</td>\n      <td>1020.198000</td>\n      <td>1.594000</td>\n      <td>None</td>\n      <td>POLYGON ((-74.69934 40.77738, -74.69934 40.777...</td>\n    </tr>\n    <tr>\n      <th>8</th>\n      <td>1419</td>\n      <td>882200</td>\n      <td>Mendham Township</td>\n      <td>11526.822000</td>\n      <td>18.011000</td>\n      <td>None</td>\n      <td>POLYGON ((-74.54221 40.78945, -74.54223 40.789...</td>\n    </tr>\n    <tr>\n      <th>9</th>\n      <td>1404</td>\n      <td>885182</td>\n      <td>Chatham Borough</td>\n      <td>1522.128900</td>\n      <td>2.378300</td>\n      <td>None</td>\n      <td>POLYGON ((-74.36515 40.74976, -74.36525 40.749...</td>\n    </tr>\n    <tr>\n      <th>10</th>\n      <td>1422</td>\n      <td>882193</td>\n      <td>Morris Township</td>\n      <td>10118.454000</td>\n      <td>15.810000</td>\n      <td>None</td>\n      <td>POLYGON ((-74.43424 40.79114, -74.43433 40.790...</td>\n    </tr>\n    <tr>\n      <th>11</th>\n      <td>1401</td>\n      <td>885164</td>\n      <td>Boonton Town</td>\n      <td>1590.064000</td>\n      <td>2.484000</td>\n      <td>2019-08-23</td>\n      <td>POLYGON ((-74.39350 40.91741, -74.39294 40.915...</td>\n    </tr>\n    <tr>\n      <th>12</th>\n      <td>1402</td>\n      <td>882205</td>\n      <td>Boonton Township</td>\n      <td>5436.820000</td>\n      <td>8.495000</td>\n      <td>2019-07-10</td>\n      <td>POLYGON ((-74.40076 40.95957, -74.40089 40.958...</td>\n    </tr>\n    <tr>\n      <th>13</th>\n      <td>1435</td>\n      <td>882209</td>\n      <td>Rockaway Township</td>\n      <td>29366.709522</td>\n      <td>45.885484</td>\n      <td>2019-07-10</td>\n      <td>MULTIPOLYGON (((-74.43977 41.04320, -74.43971 ...</td>\n    </tr>\n  </tbody>\n</table>\n</div>"
     },
     "execution_count": 337,
     "metadata": {},
     "output_type": "execute_result"
    }
   ],
   "source": [
    "gdf = gdf.to_crs(4326) # Change coordinate systems\n",
    "bounds = [gdf.iloc[[x]].unary_union.bounds for x in range(39)]\n",
    "gdf = gdf[gdf[\"Label\"].isin(problems)].reset_index(drop=True)\n",
    "gdf"
   ],
   "metadata": {
    "collapsed": false,
    "ExecuteTime": {
     "end_time": "2024-04-22T04:16:45.544670800Z",
     "start_time": "2024-04-22T04:16:45.317154800Z"
    }
   },
   "id": "fdeb873c05411b8b",
   "execution_count": 337
  },
  {
   "cell_type": "code",
   "outputs": [
    {
     "name": "stderr",
     "output_type": "stream",
     "text": [
      "100%|██████████| 55158/55158 [12:27<00:00, 73.78it/s] \n"
     ]
    }
   ],
   "source": [
    "# 12 mins\n",
    "new_town_list = []\n",
    "for row in tqdm(range(len(df_bad))):\n",
    "    row_add = df_bad.iloc[[row]]\n",
    "    x = row_add.LONG_\n",
    "    y = row_add.LAT\n",
    "    p = Point(x, y)\n",
    "    \n",
    "    town_var = row_add.POST_COMM.values[0]\n",
    "    for index in range(len(gdf)):\n",
    "        gdf_row = gdf.iloc[[index]]\n",
    "        #print(gdf_row)\n",
    "        town = gdf_row.Label.values[0] \n",
    "        \n",
    "        aoi_geom = gdf_row.unary_union\n",
    "        \n",
    "        if aoi_geom.contains(p):\n",
    "            town_var = town\n",
    "            break\n",
    "    new_town_list.append(town_var)"
   ],
   "metadata": {
    "collapsed": false,
    "ExecuteTime": {
     "end_time": "2024-04-22T04:29:13.157970400Z",
     "start_time": "2024-04-22T04:16:45.539856100Z"
    }
   },
   "id": "9efca9c86b415788",
   "execution_count": 338
  },
  {
   "cell_type": "code",
   "outputs": [
    {
     "data": {
      "text/plain": "['Chatham Borough',\n 'Morris Township',\n 'Morris Township',\n 'Morris Township',\n 'Boonton Town',\n 'Rockaway Township',\n 'Mendham Township',\n 'Morristown',\n 'Morristown Town',\n 'Morris Township',\n 'Mendham Borough',\n 'Dover Town',\n 'Dover Town',\n 'Chatham Township',\n 'Mendham Township',\n 'Mendham Borough',\n 'Morris Township',\n 'Morristown Town',\n 'Boonton Town',\n 'Morris Township',\n 'Morris Township',\n 'Morris Township',\n 'Morris Township',\n 'Morris Township',\n 'Morris Township',\n 'Chester Township',\n 'Morris Township',\n 'Morris Township',\n 'Morris Township',\n 'Morristown Town',\n 'Dover Town',\n 'Morris Township',\n 'Rockaway Township',\n 'Morris Township',\n 'Boonton Town',\n 'Morris Township',\n 'Morris Township',\n 'Morris Township',\n 'Rockaway',\n 'Boonton Town',\n 'Boonton Town',\n 'Morris Township',\n 'Mendham',\n 'Morris Township',\n 'Boonton Town',\n 'Morristown',\n 'Boonton Town',\n 'Rockaway Township',\n 'Rockaway Borough',\n 'Chatham Borough',\n 'Morris Township',\n 'Morris Township',\n 'Morristown Town',\n 'Mendham Borough',\n 'Chester Township',\n 'Morris Township',\n 'Morris Township',\n 'Morris Township',\n 'Chatham Borough',\n 'Morris Township',\n 'Morris Township',\n 'Morris Township',\n 'Boonton Town',\n 'Morris Township',\n 'Mendham Township',\n 'Mendham Borough',\n 'Chatham Borough',\n 'Chester Township',\n 'Chester Borough',\n 'Morris Township',\n 'Morris Township',\n 'Morris Township',\n 'Morris Township',\n 'Boonton Town',\n 'Boonton Town',\n 'Boonton Town',\n 'Morris Township',\n 'Boonton Town',\n 'Chester Township',\n 'Morris Township',\n 'Morris Township',\n 'Morris Township',\n 'Chatham Borough',\n 'Morris Township',\n 'Chatham Township',\n 'Morris Township',\n 'Morris Township',\n 'Rockaway Borough',\n 'Morris Township',\n 'Morristown Town',\n 'Rockaway Township',\n 'Morris Township',\n 'Dover Town',\n 'Morris Township',\n 'Morristown Town',\n 'Chatham Township',\n 'Morristown Town',\n 'Mendham Borough',\n 'Chatham Borough',\n 'Morris Township',\n 'Morristown',\n 'Rockaway Township',\n 'Rockaway Township',\n 'Mendham Borough',\n 'Rockaway Township',\n 'Boonton Town',\n 'Chester Township',\n 'Chatham Township',\n 'Morristown Town',\n 'Rockaway',\n 'Morris Township',\n 'Chester Township',\n 'Chester Township',\n 'Dover Town',\n 'Dover Town',\n 'Dover Town',\n 'Dover Town',\n 'Dover Town',\n 'Dover Town',\n 'Dover Town',\n 'Dover Town',\n 'Dover Town',\n 'Dover Town',\n 'Dover Town',\n 'Dover Town',\n 'Dover Town',\n 'Dover Town',\n 'Dover Town',\n 'Dover Town',\n 'Dover Town',\n 'Dover Town',\n 'Dover Town',\n 'Dover Town',\n 'Dover Town',\n 'Dover Town',\n 'Dover Town',\n 'Dover Town',\n 'Dover Town',\n 'Dover Town',\n 'Dover Town',\n 'Dover Town',\n 'Dover Town',\n 'Dover Town',\n 'Dover Town',\n 'Dover Town',\n 'Dover Town',\n 'Dover Town',\n 'Dover Town',\n 'Dover Town',\n 'Dover Town',\n 'Dover Town',\n 'Dover Town',\n 'Dover Town',\n 'Dover Town',\n 'Dover Town',\n 'Dover Town',\n 'Dover Town',\n 'Dover Town',\n 'Dover Town',\n 'Dover Town',\n 'Dover Town',\n 'Dover Town',\n 'Dover Town',\n 'Morris Township',\n 'Chatham Township',\n 'Morristown Town',\n 'Rockaway Borough',\n 'Chatham Borough',\n 'Morris Township',\n 'Mendham',\n 'Dover Town',\n 'Boonton',\n 'Mendham',\n 'Morris Township',\n 'Rockaway Borough',\n 'Dover Town',\n 'Rockaway Township',\n 'Morristown Town',\n 'Morristown Town',\n 'Chatham Township',\n 'Mendham Borough',\n 'Chester Township',\n 'Chester Township',\n 'Mendham Borough',\n 'Chester Township',\n 'Rockaway Borough',\n 'Rockaway Township',\n 'Chester Township',\n 'Rockaway Township',\n 'Morristown Town',\n 'Dover Town',\n 'Mendham Township',\n 'Mendham Borough',\n 'Rockaway Borough',\n 'Morristown',\n 'Mendham Borough',\n 'Chatham Borough',\n 'Rockaway Township',\n 'Morris Township',\n 'Boonton Township',\n 'Chatham Township',\n 'Rockaway Borough',\n 'Morristown',\n 'Rockaway Township',\n 'Mendham Township',\n 'Dover Town',\n 'Rockaway Township',\n 'Dover Town',\n 'Morristown Town',\n 'Rockaway Borough',\n 'Morris Township',\n 'Chatham Borough',\n 'Boonton Town',\n 'Boonton Town',\n 'Boonton Town',\n 'Chatham Borough',\n 'Rockaway Township',\n 'Rockaway Township',\n 'Morris Township',\n 'Morristown Town',\n 'Morris Township',\n 'Rockaway Township',\n 'Chester Township',\n 'Morristown Town',\n 'Rockaway Township',\n 'Morristown Town',\n 'Morris Township',\n 'Chester Township',\n 'Boonton Town',\n 'Chatham Township',\n 'Morristown Town',\n 'Chatham Township',\n 'Chester Borough',\n 'Morristown Town',\n 'Morris Township',\n 'Rockaway Borough',\n 'Mendham Township',\n 'Boonton',\n 'Boonton Town',\n 'Mendham Borough',\n 'Morristown Town',\n 'Dover Town',\n 'Chester Township',\n 'Boonton Town',\n 'Morristown Town',\n 'Chatham Borough',\n 'Morris Township',\n 'Morris Township',\n 'Rockaway Borough',\n 'Rockaway Township',\n 'Boonton Township',\n 'Boonton Township',\n 'Dover Town',\n 'Chester Township',\n 'Morristown Town',\n 'Dover Town',\n 'Chester Borough',\n 'Chatham Borough',\n 'Boonton Township',\n 'Chester Borough',\n 'Mendham Borough',\n 'Morris Township',\n 'Rockaway Township',\n 'Mendham Township',\n 'Rockaway Borough',\n 'Rockaway Township',\n 'Chatham Borough',\n 'Boonton',\n 'Morris Township',\n 'Chester Borough',\n 'Morristown Town',\n 'Morristown Town',\n 'Chatham Borough',\n 'Morristown',\n 'Morristown',\n 'Rockaway Township',\n 'Morris Township',\n 'Boonton',\n 'Dover Town',\n 'Morris Township',\n 'Rockaway Township',\n 'Chatham Township',\n 'Morris Township',\n 'Dover Town',\n 'Boonton Town',\n 'Mendham Borough',\n 'Rockaway Borough',\n 'Rockaway Township',\n 'Morris Township',\n 'Rockaway Township',\n 'Morristown Town',\n 'Morristown',\n 'Chatham Borough',\n 'Boonton Township',\n 'Boonton Township',\n 'Rockaway Township',\n 'Mendham Borough',\n 'Morris Township',\n 'Chatham Borough',\n 'Rockaway Township',\n 'Mendham Borough',\n 'Morris Township',\n 'Morris Township',\n 'Morris Township',\n 'Dover Town',\n 'Chester Township',\n 'Morris Township',\n 'Boonton Town',\n 'Morris Township',\n 'Rockaway Township',\n 'Chester Borough',\n 'Dover Town',\n 'Morristown Town',\n 'Rockaway Township',\n 'Mendham Township',\n 'Chester Township',\n 'Chester Township',\n 'Mendham Township',\n 'Chester Township',\n 'Dover Town',\n 'Rockaway Township',\n 'Rockaway Township',\n 'Chatham Borough',\n 'Mendham Township',\n 'Morristown Town',\n 'Chatham Borough',\n 'Mendham Borough',\n 'Chatham Township',\n 'Boonton Township',\n 'Morris Township',\n 'Boonton Town',\n 'Chatham Township',\n 'Morris Township',\n 'Dover Town',\n 'Rockaway Township',\n 'Victory Gardens Borough',\n 'Morris Township',\n 'Morris Township',\n 'Rockaway Township',\n 'Morris Township',\n 'Chester Township',\n 'Morris Township',\n 'Morris Township',\n 'Rockaway Township',\n 'Boonton Town',\n 'Chester Township',\n 'Dover Town',\n 'Morris Township',\n 'Mendham Borough',\n 'Chester Township',\n 'Rockaway Township',\n 'Morris Township',\n 'Rockaway Borough',\n 'Morristown',\n 'Mendham Township',\n 'Morristown Town',\n 'Chatham Borough',\n 'Morris Township',\n 'Morristown',\n 'Chatham Township',\n 'Rockaway Borough',\n 'Chester Township',\n 'Morristown Town',\n 'Morris Township',\n 'Morris Township',\n 'Morristown Town',\n 'Rockaway Township',\n 'Mendham Borough',\n 'Rockaway Township',\n 'Rockaway Township',\n 'Morristown Town',\n 'Boonton Town',\n 'Rockaway Township',\n 'Rockaway Borough',\n 'Morris Township',\n 'Morris Township',\n 'Rockaway Township',\n 'Boonton Township',\n 'Mendham Borough',\n 'Rockaway Borough',\n 'Morris Township',\n 'Morristown Town',\n 'Rockaway Township',\n 'Boonton',\n 'Dover Town',\n 'Morris Township',\n 'Boonton Town',\n 'Rockaway Township',\n 'Morristown Town',\n 'Morris Township',\n 'Boonton Township',\n 'Rockaway Township',\n 'Boonton Township',\n 'Boonton',\n 'Rockaway Township',\n 'Dover Town',\n 'Morris Township',\n 'Chester Township',\n 'Dover Town',\n 'Chatham Borough',\n 'Morristown Town',\n 'Rockaway Township',\n 'Boonton Township',\n 'Rockaway Township',\n 'Rockaway Borough',\n 'Rockaway Borough',\n 'Rockaway Township',\n 'Chatham Borough',\n 'Dover Town',\n 'Mendham Borough',\n 'Rockaway Township',\n 'Boonton Township',\n 'Morris Township',\n 'Rockaway Township',\n 'Dover Town',\n 'Morris Township',\n 'Rockaway Township',\n 'Morris Township',\n 'Boonton Town',\n 'Chatham Township',\n 'Rockaway Township',\n 'Boonton Town',\n 'Chester Township',\n 'Chatham Township',\n 'Rockaway Township',\n 'Rockaway Township',\n 'Rockaway Borough',\n 'Morristown',\n 'Rockaway Township',\n 'Boonton Town',\n 'Boonton',\n 'Morris Township',\n 'Boonton Township',\n 'Morris Township',\n 'Rockaway Township',\n 'Rockaway Township',\n 'Boonton Town',\n 'Chester Township',\n 'Dover',\n 'Dover Town',\n 'Morristown Town',\n 'Chatham Township',\n 'Morris Township',\n 'Chatham Borough',\n 'Rockaway Township',\n 'Morris Township',\n 'Morristown Town',\n 'Boonton',\n 'Chatham Township',\n 'Chatham Township',\n 'Rockaway Township',\n 'Chester Township',\n 'Morris Township',\n 'Rockaway Township',\n 'Mendham Township',\n 'Chatham Borough',\n 'Chatham Borough',\n 'Chatham Township',\n 'Dover Town',\n 'Rockaway Township',\n 'Rockaway Township',\n 'Mendham Borough',\n 'Chester Township',\n 'Chatham Borough',\n 'Rockaway Township',\n 'Morristown Town',\n 'Rockaway Borough',\n 'Dover Town',\n 'Rockaway Township',\n 'Dover Town',\n 'Morristown Town',\n 'Rockaway Township',\n 'Chatham Borough',\n 'Boonton Town',\n 'Rockaway Township',\n 'Rockaway Township',\n 'Mendham Borough',\n 'Dover Town',\n 'Chatham Township',\n 'Rockaway Township',\n 'Chatham Township',\n 'Morris Township',\n 'Rockaway Township',\n 'Rockaway Township',\n 'Dover Town',\n 'Rockaway Township',\n 'Morris Township',\n 'Chester Township',\n 'Morristown Town',\n 'Morristown Town',\n 'Rockaway Township',\n 'Morristown Town',\n 'Rockaway Township',\n 'Chatham Township',\n 'Chatham Township',\n 'Morris Township',\n 'Rockaway Township',\n 'Boonton Town',\n 'Mendham Township',\n 'Rockaway Borough',\n 'Boonton',\n 'Morris Township',\n 'Chatham Borough',\n 'Rockaway Township',\n 'Morristown',\n 'Morristown',\n 'Morristown Town',\n 'Morristown Town',\n 'Chester Township',\n 'Dover Town',\n 'Chester Township',\n 'Mendham Township',\n 'Rockaway Township',\n 'Chatham Township',\n 'Morristown Town',\n 'Dover Town',\n 'Morris Township',\n 'Dover Town',\n 'Rockaway Township',\n 'Rockaway Township',\n 'Rockaway Township',\n 'Rockaway Township',\n 'Mendham Borough',\n 'Victory Gardens Borough',\n 'Boonton Town',\n 'Chatham Township',\n 'Morris Township',\n 'Boonton Township',\n 'Chester Township',\n 'Morris Township',\n 'Chatham Township',\n 'Chester Township',\n 'Rockaway Township',\n 'Morris Township',\n 'Morristown Town',\n 'Morris Township',\n 'Dover Town',\n 'Rockaway Township',\n 'Chatham Township',\n 'Chatham Borough',\n 'Dover Town',\n 'Dover Town',\n 'Chatham Borough',\n 'Morristown Town',\n 'Morris Township',\n 'Chatham Township',\n 'Dover Town',\n 'Rockaway Borough',\n 'Morris Township',\n 'Chatham Township',\n 'Mendham Township',\n 'Mendham Borough',\n 'Morris Township',\n 'Rockaway Township',\n 'Chatham Township',\n 'Chatham Township',\n 'Chester Township',\n 'Morris Township',\n 'Dover Town',\n 'Rockaway Township',\n 'Rockaway Township',\n 'Mendham Borough',\n 'Rockaway Borough',\n 'Rockaway Township',\n 'Mendham Borough',\n 'Dover Town',\n 'Chatham Borough',\n 'Morristown Town',\n 'Morristown Town',\n 'Morristown Town',\n 'Rockaway Township',\n 'Morris Township',\n 'Morris Township',\n 'Boonton',\n 'Morris Township',\n 'Morris Township',\n 'Rockaway Township',\n 'Mendham Township',\n 'Morristown Town',\n 'Rockaway Borough',\n 'Morristown Town',\n 'Chatham Township',\n 'Rockaway Borough',\n 'Morristown Town',\n 'Rockaway Township',\n 'Rockaway Township',\n 'Morris Township',\n 'Rockaway Township',\n 'Mendham',\n 'Victory Gardens Borough',\n 'Morristown Town',\n 'Morristown',\n 'Dover Town',\n 'Dover Town',\n 'Morristown Town',\n 'Rockaway Borough',\n 'Dover Town',\n 'Rockaway Township',\n 'Chester Township',\n 'Morristown Town',\n 'Chester Township',\n 'Mendham Township',\n 'Boonton Town',\n 'Morristown Town',\n 'Chatham Township',\n 'Morris Township',\n 'Rockaway Township',\n 'Morris Township',\n 'Chatham Township',\n 'Chester Borough',\n 'Rockaway Township',\n 'Morristown Town',\n 'Boonton Town',\n 'Dover Town',\n 'Boonton Town',\n 'Morris Township',\n 'Rockaway Township',\n 'Mendham Borough',\n 'Boonton Town',\n 'Morris Township',\n 'Boonton Town',\n 'Chatham Township',\n 'Rockaway Township',\n 'Rockaway Township',\n 'Chester Township',\n 'Rockaway Township',\n 'Morris Township',\n 'Rockaway Township',\n 'Chester Township',\n 'Mendham Township',\n 'Chatham Township',\n 'Morristown Town',\n 'Chester',\n 'Morris Township',\n 'Chester Township',\n 'Mendham Township',\n 'Boonton Township',\n 'Boonton Town',\n 'Mendham Township',\n 'Dover Town',\n 'Rockaway Township',\n 'Morristown Town',\n 'Chatham Township',\n 'Rockaway Township',\n 'Chester Township',\n 'Rockaway Township',\n 'Chester Township',\n 'Rockaway Borough',\n 'Morristown',\n 'Chester Township',\n 'Dover Town',\n 'Morristown Town',\n 'Rockaway Township',\n 'Chatham Township',\n 'Morris Township',\n 'Rockaway Township',\n 'Rockaway Township',\n 'Chatham Township',\n 'Rockaway Township',\n 'Rockaway Township',\n 'Morris Township',\n 'Boonton Town',\n 'Rockaway Borough',\n 'Rockaway Township',\n 'Morris Township',\n 'Rockaway Township',\n 'Rockaway Township',\n 'Victory Gardens Borough',\n 'Rockaway Township',\n 'Dover Town',\n 'Chatham Township',\n 'Chatham Borough',\n 'Boonton',\n 'Chatham Borough',\n 'Morristown Town',\n 'Rockaway Township',\n 'Mendham Township',\n 'Boonton Town',\n 'Rockaway Township',\n 'Rockaway Borough',\n 'Rockaway Township',\n 'Morristown',\n 'Chester Township',\n 'Morristown',\n 'Morristown Town',\n 'Chester Township',\n 'Morristown Town',\n 'Dover Town',\n 'Morris Township',\n 'Morris Township',\n 'Rockaway Township',\n 'Rockaway Township',\n 'Morris Township',\n 'Rockaway Township',\n 'Rockaway Township',\n 'Dover Town',\n 'Morristown Town',\n 'Dover Town',\n 'Rockaway Borough',\n 'Rockaway Township',\n 'Boonton Town',\n 'Rockaway Township',\n 'Chester Township',\n 'Rockaway Township',\n 'Chatham Borough',\n 'Morris Township',\n 'Chester Township',\n 'Morristown',\n 'Morris Township',\n 'Boonton Township',\n 'Chatham Borough',\n 'Chatham Township',\n 'Morris Township',\n 'Morris Township',\n 'Chester Township',\n 'Rockaway Borough',\n 'Dover Town',\n 'Boonton Township',\n 'Rockaway Township',\n 'Boonton Township',\n 'Boonton Town',\n 'Morristown',\n 'Mendham Borough',\n 'Rockaway Township',\n 'Rockaway Township',\n 'Rockaway Township',\n 'Chatham Borough',\n 'Chester Township',\n 'Chester Township',\n 'Mendham Borough',\n 'Chatham Borough',\n 'Mendham Township',\n 'Rockaway Township',\n 'Rockaway Township',\n 'Rockaway Township',\n 'Mendham Township',\n 'Mendham Borough',\n 'Morris Township',\n 'Mendham Township',\n 'Rockaway Township',\n 'Chatham Borough',\n 'Mendham Township',\n 'Rockaway Township',\n 'Rockaway Township',\n 'Chatham Borough',\n 'Morristown Town',\n 'Boonton',\n 'Boonton Town',\n 'Rockaway Borough',\n 'Morris Township',\n 'Morristown Town',\n 'Morris Township',\n 'Morristown Town',\n 'Chatham Borough',\n 'Morris Township',\n 'Mendham Borough',\n 'Dover Town',\n 'Dover Town',\n 'Morristown Town',\n 'Morris Township',\n 'Rockaway Township',\n 'Dover Town',\n 'Chatham Borough',\n 'Mendham Township',\n 'Chester Township',\n 'Morris Township',\n 'Morris Township',\n 'Rockaway Borough',\n 'Chatham Township',\n 'Dover Town',\n 'Rockaway Township',\n 'Dover Town',\n 'Chester Township',\n 'Chatham Borough',\n 'Morristown Town',\n 'Morris Township',\n 'Rockaway Township',\n 'Rockaway Township',\n 'Boonton Township',\n 'Mendham Borough',\n 'Dover Town',\n 'Boonton',\n 'Chatham Township',\n 'Rockaway Township',\n 'Mendham Borough',\n 'Rockaway Township',\n 'Morristown',\n 'Morristown Town',\n 'Chatham Township',\n 'Morristown Town',\n 'Morristown Town',\n 'Rockaway Township',\n 'Dover Town',\n 'Morristown Town',\n 'Boonton Town',\n 'Mendham Borough',\n 'Chatham Borough',\n 'Rockaway Township',\n 'Morristown Town',\n 'Victory Gardens Borough',\n 'Rockaway Borough',\n 'Morristown Town',\n 'Chatham Borough',\n 'Boonton',\n 'Boonton Town',\n 'Morris Township',\n 'Morris Township',\n 'Morris Township',\n 'Rockaway Township',\n 'Dover Town',\n 'Rockaway Borough',\n 'Chester Borough',\n 'Morris Township',\n 'Mendham Borough',\n 'Mendham Borough',\n 'Morris Township',\n 'Morristown',\n 'Morris Township',\n 'Chester',\n 'Mendham Township',\n 'Dover Town',\n 'Morristown Town',\n 'Morris Township',\n 'Chatham Borough',\n 'Morris Township',\n 'Chatham Borough',\n 'Morristown',\n 'Chatham Borough',\n 'Rockaway Township',\n 'Morristown Town',\n 'Chester Township',\n 'Mendham Township',\n 'Chatham Borough',\n 'Morristown Town',\n 'Chester Borough',\n 'Rockaway Borough',\n 'Morris Township',\n 'Mendham Borough',\n 'Boonton Town',\n 'Rockaway Borough',\n 'Dover Town',\n 'Morristown Town',\n 'Mendham Borough',\n 'Boonton Town',\n 'Rockaway Township',\n 'Morristown Town',\n 'Morris Township',\n 'Boonton Town',\n 'Morris Township',\n 'Chatham Township',\n 'Dover Town',\n 'Chatham Township',\n 'Dover Town',\n 'Rockaway Township',\n 'Morris Township',\n 'Dover Town',\n 'Morristown Town',\n 'Rockaway Township',\n 'Boonton Town',\n 'Rockaway Township',\n 'Chatham Township',\n 'Mendham Township',\n 'Rockaway Borough',\n 'Chatham Township',\n 'Mendham Township',\n 'Morristown',\n 'Morris Township',\n 'Chester Township',\n 'Dover Town',\n 'Dover Town',\n 'Rockaway Township',\n 'Morristown Town',\n 'Rockaway Borough',\n 'Mendham Borough',\n 'Mendham Borough',\n 'Morris Township',\n 'Morristown Town',\n 'Morris Township',\n 'Morristown Town',\n 'Rockaway Township',\n 'Chester Township',\n 'Boonton Town',\n 'Morristown Town',\n 'Rockaway Township',\n 'Boonton Township',\n 'Chatham Township',\n 'Morristown Town',\n 'Morristown Town',\n 'Chester Township',\n 'Morristown Town',\n 'Boonton Town',\n 'Morris Township',\n 'Morris Township',\n 'Rockaway Township',\n 'Morris Township',\n 'Morris Township',\n 'Boonton Town',\n 'Morristown Town',\n 'Rockaway Borough',\n 'Chester Township',\n 'Mendham Township',\n 'Mendham Township',\n 'Morristown Town',\n 'Chatham Borough',\n 'Mendham Borough',\n 'Chatham Township',\n 'Rockaway Township',\n 'Chatham Borough',\n 'Chatham Township',\n 'Rockaway Township',\n 'Morristown Town',\n 'Morris Township',\n 'Rockaway Township',\n 'Chatham Township',\n 'Rockaway Township',\n 'Dover Town',\n 'Chatham Borough',\n 'Boonton Town',\n 'Rockaway Borough',\n 'Chatham Township',\n 'Dover Town',\n 'Dover Town',\n 'Morristown Town',\n 'Morris Township',\n 'Morris Township',\n 'Rockaway Township',\n 'Chester Township',\n 'Morristown Town',\n 'Morris Township',\n 'Chatham Township',\n 'Rockaway Township',\n 'Chatham Township',\n 'Morristown Town',\n 'Dover Town',\n 'Morristown Town',\n 'Morristown Town',\n 'Morris Township',\n 'Rockaway Township',\n 'Chatham Township',\n 'Morris Township',\n 'Rockaway Township',\n 'Morristown',\n 'Morristown Town',\n 'Chester Borough',\n 'Morris Township',\n 'Victory Gardens Borough',\n 'Rockaway Township',\n 'Chester Borough',\n 'Dover Town',\n 'Boonton',\n 'Dover Town',\n 'Dover Town',\n 'Dover Town',\n 'Rockaway Township',\n 'Rockaway Township',\n 'Rockaway Township',\n 'Rockaway Township',\n 'Chester Township',\n 'Dover Town',\n 'Chatham Township',\n 'Morristown Town',\n 'Rockaway Township',\n 'Rockaway Township',\n 'Morristown Town',\n 'Rockaway Borough',\n 'Morris Township',\n 'Dover Town',\n 'Morristown Town',\n 'Morristown Town',\n 'Mendham Borough',\n 'Morris Township',\n 'Boonton Town',\n 'Rockaway Township',\n 'Dover Town',\n 'Morris Township',\n 'Boonton Township',\n 'Rockaway Township',\n 'Chatham Borough',\n 'Boonton Town',\n 'Chatham Borough',\n 'Chatham Township',\n 'Morris Township',\n 'Chatham Borough',\n 'Morris Township',\n 'Morristown Town',\n 'Morris Township',\n 'Morristown Town',\n 'Boonton Town',\n 'Mendham',\n 'Boonton Township',\n 'Dover Town',\n 'Chatham Township',\n 'Chester Township',\n 'Chatham Township',\n 'Rockaway Township',\n 'Morris Township',\n 'Chester Township',\n 'Chatham Borough',\n 'Rockaway Borough',\n 'Morristown Town',\n ...]"
     },
     "execution_count": 339,
     "metadata": {},
     "output_type": "execute_result"
    }
   ],
   "source": [
    "new_town_list"
   ],
   "metadata": {
    "collapsed": false
   },
   "id": "c6e607db21ce76c7",
   "execution_count": 339
  },
  {
   "cell_type": "code",
   "outputs": [
    {
     "data": {
      "text/plain": "39"
     },
     "execution_count": 374,
     "metadata": {},
     "output_type": "execute_result"
    }
   ],
   "source": [
    "new_df_bad = df_bad.copy()\n",
    "new_df_bad.POST_COMM = new_town_list\n",
    "new_df_bad = new_df_bad[new_df_bad[\"POST_COMM\"].isin(towns)]\n",
    "combined_df = pd.concat([df_good, new_df_bad], ignore_index=True)\n",
    "combined_df.POST_COMM.nunique()"
   ],
   "metadata": {
    "collapsed": false,
    "ExecuteTime": {
     "end_time": "2024-04-22T04:37:13.770350500Z",
     "start_time": "2024-04-22T04:37:13.733969600Z"
    }
   },
   "id": "bb5b7c4a3beb6f35",
   "execution_count": 374
  },
  {
   "cell_type": "code",
   "outputs": [
    {
     "data": {
      "text/plain": "                             POST_COMM  PLACE_TYPE  \\\n0                    Randolph Township  Commercial   \n1                    Randolph Township  Commercial   \n2                      Madison Borough  Commercial   \n3       Parsippany-Troy Hills Township  Commercial   \n4       Parsippany-Troy Hills Township  Commercial   \n...                                ...         ...   \n171408                      Dover Town     Unknown   \n171409                 Morris Township   Residence   \n171410                 Morris Township   Residence   \n171411                 Chester Borough   Residence   \n171412                 Chester Borough   Residence   \n\n                                               ADDRESS      LONG_        LAT  \n0             25 School House Road, Randolph, NJ 07869 -74.571228  40.844481  \n1           303 Dover-Chester Road, Randolph, NJ 07869 -74.612319  40.834135  \n2                 700 Shunpike Road, Madison, NJ 07940 -74.434092  40.749933  \n3       509 South Beverwyck Road, Parsippany, NJ 07054 -74.392478  40.850515  \n4               1 Lincoln Avenue, Parsippany, NJ 07054 -74.385510  40.875584  \n...                                                ...        ...        ...  \n171408        171 West Clinton Street, Dover, NJ 07801 -74.563845  40.891246  \n171409             2 Symor Drive, Morristown, NJ 07960 -74.457119  40.775384  \n171410             1 Symor Drive, Morristown, NJ 07960 -74.457255  40.775971  \n171411           24 Mill Ridge Lane, Chester, NJ 07930 -74.706008  40.786139  \n171412           32 Mill Ridge Lane, Chester, NJ 07930 -74.706700  40.786870  \n\n[171413 rows x 5 columns]",
      "text/html": "<div>\n<style scoped>\n    .dataframe tbody tr th:only-of-type {\n        vertical-align: middle;\n    }\n\n    .dataframe tbody tr th {\n        vertical-align: top;\n    }\n\n    .dataframe thead th {\n        text-align: right;\n    }\n</style>\n<table border=\"1\" class=\"dataframe\">\n  <thead>\n    <tr style=\"text-align: right;\">\n      <th></th>\n      <th>POST_COMM</th>\n      <th>PLACE_TYPE</th>\n      <th>ADDRESS</th>\n      <th>LONG_</th>\n      <th>LAT</th>\n    </tr>\n  </thead>\n  <tbody>\n    <tr>\n      <th>0</th>\n      <td>Randolph Township</td>\n      <td>Commercial</td>\n      <td>25 School House Road, Randolph, NJ 07869</td>\n      <td>-74.571228</td>\n      <td>40.844481</td>\n    </tr>\n    <tr>\n      <th>1</th>\n      <td>Randolph Township</td>\n      <td>Commercial</td>\n      <td>303 Dover-Chester Road, Randolph, NJ 07869</td>\n      <td>-74.612319</td>\n      <td>40.834135</td>\n    </tr>\n    <tr>\n      <th>2</th>\n      <td>Madison Borough</td>\n      <td>Commercial</td>\n      <td>700 Shunpike Road, Madison, NJ 07940</td>\n      <td>-74.434092</td>\n      <td>40.749933</td>\n    </tr>\n    <tr>\n      <th>3</th>\n      <td>Parsippany-Troy Hills Township</td>\n      <td>Commercial</td>\n      <td>509 South Beverwyck Road, Parsippany, NJ 07054</td>\n      <td>-74.392478</td>\n      <td>40.850515</td>\n    </tr>\n    <tr>\n      <th>4</th>\n      <td>Parsippany-Troy Hills Township</td>\n      <td>Commercial</td>\n      <td>1 Lincoln Avenue, Parsippany, NJ 07054</td>\n      <td>-74.385510</td>\n      <td>40.875584</td>\n    </tr>\n    <tr>\n      <th>...</th>\n      <td>...</td>\n      <td>...</td>\n      <td>...</td>\n      <td>...</td>\n      <td>...</td>\n    </tr>\n    <tr>\n      <th>171408</th>\n      <td>Dover Town</td>\n      <td>Unknown</td>\n      <td>171 West Clinton Street, Dover, NJ 07801</td>\n      <td>-74.563845</td>\n      <td>40.891246</td>\n    </tr>\n    <tr>\n      <th>171409</th>\n      <td>Morris Township</td>\n      <td>Residence</td>\n      <td>2 Symor Drive, Morristown, NJ 07960</td>\n      <td>-74.457119</td>\n      <td>40.775384</td>\n    </tr>\n    <tr>\n      <th>171410</th>\n      <td>Morris Township</td>\n      <td>Residence</td>\n      <td>1 Symor Drive, Morristown, NJ 07960</td>\n      <td>-74.457255</td>\n      <td>40.775971</td>\n    </tr>\n    <tr>\n      <th>171411</th>\n      <td>Chester Borough</td>\n      <td>Residence</td>\n      <td>24 Mill Ridge Lane, Chester, NJ 07930</td>\n      <td>-74.706008</td>\n      <td>40.786139</td>\n    </tr>\n    <tr>\n      <th>171412</th>\n      <td>Chester Borough</td>\n      <td>Residence</td>\n      <td>32 Mill Ridge Lane, Chester, NJ 07930</td>\n      <td>-74.706700</td>\n      <td>40.786870</td>\n    </tr>\n  </tbody>\n</table>\n<p>171413 rows × 5 columns</p>\n</div>"
     },
     "execution_count": 375,
     "metadata": {},
     "output_type": "execute_result"
    }
   ],
   "source": [
    "combined_df"
   ],
   "metadata": {
    "collapsed": false,
    "ExecuteTime": {
     "end_time": "2024-04-22T04:37:14.898835300Z",
     "start_time": "2024-04-22T04:37:14.887068800Z"
    }
   },
   "id": "81c1e9e629ba57ea",
   "execution_count": 375
  },
  {
   "cell_type": "code",
   "outputs": [],
   "source": [
    "combined_df.to_csv('./csv/morris_address.csv', index=False)"
   ],
   "metadata": {
    "collapsed": false,
    "ExecuteTime": {
     "end_time": "2024-04-22T04:45:58.325981400Z",
     "start_time": "2024-04-22T04:45:57.522536Z"
    }
   },
   "id": "7d9e1c9f3caff373",
   "execution_count": 380
  }
 ],
 "metadata": {
  "kernelspec": {
   "display_name": "Python 3",
   "language": "python",
   "name": "python3"
  },
  "language_info": {
   "codemirror_mode": {
    "name": "ipython",
    "version": 2
   },
   "file_extension": ".py",
   "mimetype": "text/x-python",
   "name": "python",
   "nbconvert_exporter": "python",
   "pygments_lexer": "ipython2",
   "version": "2.7.6"
  }
 },
 "nbformat": 4,
 "nbformat_minor": 5
}
