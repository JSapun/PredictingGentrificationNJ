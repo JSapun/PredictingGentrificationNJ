{
 "cells": [
  {
   "cell_type": "markdown",
   "source": [
    "# This file explores, preprocesses and analyzes the Census Data\n",
    "##### Data primarily consists of housing statistics and estimates "
   ],
   "metadata": {
    "collapsed": false
   },
   "id": "c623b2aed9e165fc"
  },
  {
   "cell_type": "code",
   "execution_count": 1,
   "id": "initial_id",
   "metadata": {
    "collapsed": true,
    "ExecuteTime": {
     "end_time": "2024-05-06T22:49:11.375595100Z",
     "start_time": "2024-05-06T22:49:10.427977500Z"
    }
   },
   "outputs": [],
   "source": [
    "import pandas as pd\n",
    "import re\n",
    "\n",
    "from IPython.core.interactiveshell import InteractiveShell \n",
    "InteractiveShell.ast_node_interactivity = \"all\"\n",
    "import warnings\n",
    "warnings.filterwarnings('ignore')\n",
    "\n",
    "house_df = pd.read_csv(\"../Data/houseInfoMorris.csv\")"
   ]
  },
  {
   "cell_type": "code",
   "outputs": [
    {
     "data": {
      "text/plain": "Index(['Label (Grouping)', 'Boonton town, Morris County, New Jersey!!Estimate',\n       'Boonton town, Morris County, New Jersey!!Margin of Error',\n       'Boonton town, Morris County, New Jersey!!Percent',\n       'Boonton town, Morris County, New Jersey!!Percent Margin of Error',\n       'Boonton township, Morris County, New Jersey!!Estimate',\n       'Boonton township, Morris County, New Jersey!!Margin of Error',\n       'Boonton township, Morris County, New Jersey!!Percent',\n       'Boonton township, Morris County, New Jersey!!Percent Margin of Error',\n       'Butler borough, Morris County, New Jersey!!Estimate',\n       ...\n       'Victory Gardens borough, Morris County, New Jersey!!Percent',\n       'Victory Gardens borough, Morris County, New Jersey!!Percent Margin of Error',\n       'Washington township, Morris County, New Jersey!!Estimate',\n       'Washington township, Morris County, New Jersey!!Margin of Error',\n       'Washington township, Morris County, New Jersey!!Percent',\n       'Washington township, Morris County, New Jersey!!Percent Margin of Error',\n       'Wharton borough, Morris County, New Jersey!!Estimate',\n       'Wharton borough, Morris County, New Jersey!!Margin of Error',\n       'Wharton borough, Morris County, New Jersey!!Percent',\n       'Wharton borough, Morris County, New Jersey!!Percent Margin of Error'],\n      dtype='object', length=157)"
     },
     "execution_count": 2,
     "metadata": {},
     "output_type": "execute_result"
    }
   ],
   "source": [
    "house_df.columns"
   ],
   "metadata": {
    "collapsed": false,
    "ExecuteTime": {
     "end_time": "2024-05-06T22:49:11.402968100Z",
     "start_time": "2024-05-06T22:49:11.374598400Z"
    }
   },
   "id": "c17a7e0eb0cf9fbd",
   "execution_count": 2
  },
  {
   "cell_type": "markdown",
   "source": [
    "## 1.) Compute Average Margin of Error"
   ],
   "metadata": {
    "collapsed": false
   },
   "id": "63c6a827ae487aef"
  },
  {
   "cell_type": "code",
   "outputs": [],
   "source": [
    "import numpy as np\n",
    "desired_columns1 = [x for x in house_df.columns if re.search(r\"!!Margin of Error$\", x)]\n",
    "margin_df = house_df.filter(items=[\"Label (Grouping)\"]+desired_columns1)\n",
    "desired_columns = [x for x in house_df.columns if re.search(r\"!!Estimate$\", x)]\n",
    "est = house_df.filter(items=[\"Label (Grouping)\"]+desired_columns)\n",
    "est = est.replace(',','', regex=True).replace('±','', regex=True).replace('\\\\+', '0', regex=True).replace('\\\\*', '0', regex=True)\n",
    "margin_df = margin_df.replace(',','', regex=True).replace('±','', regex=True).replace('\\\\+', '0', regex=True).replace('\\\\*', '0', regex=True)"
   ],
   "metadata": {
    "collapsed": false,
    "ExecuteTime": {
     "end_time": "2024-05-06T23:09:57.573558800Z",
     "start_time": "2024-05-06T23:09:57.571398100Z"
    }
   },
   "id": "80795a49b25e7c69",
   "execution_count": 126
  },
  {
   "cell_type": "code",
   "outputs": [],
   "source": [
    "newdf = margin_df.copy()[\"Label (Grouping)\"]\n",
    "col_est = est.columns[1:]\n",
    "col_margin = margin_df.columns[1:]\n",
    "for x in range(39):\n",
    "    if 0 in [float(y) for y in margin_df[col_margin[x]]]:\n",
    "        newdf[x] = np.zeros(len(est))\n",
    "    else:\n",
    "        w = [float(est[col_est[x]][y])/float(margin_df[col_margin[x]][y]) for y in range(len(est))]\n",
    "        newdf[x] = w"
   ],
   "metadata": {
    "collapsed": false,
    "ExecuteTime": {
     "end_time": "2024-05-06T23:24:57.149583100Z",
     "start_time": "2024-05-06T23:24:57.113513700Z"
    }
   },
   "id": "189e74d499b62afa",
   "execution_count": 234
  },
  {
   "cell_type": "code",
   "outputs": [],
   "source": [
    "newdf = newdf[:39]\n",
    "k = [pd.DataFrame(newdf.iloc[x]) for x in range(len(newdf))]\n",
    "k = [x.replace(['nan',float('NaN')], 0) for x in k]"
   ],
   "metadata": {
    "collapsed": false,
    "ExecuteTime": {
     "end_time": "2024-05-06T23:24:57.407545300Z",
     "start_time": "2024-05-06T23:24:57.398603100Z"
    }
   },
   "id": "48b119472276b618",
   "execution_count": 235
  },
  {
   "cell_type": "code",
   "outputs": [
    {
     "data": {
      "text/plain": "3.0593134280736254"
     },
     "execution_count": 254,
     "metadata": {},
     "output_type": "execute_result"
    }
   ],
   "source": [
    "k_mean = [np.mean(x) for x in k]\n",
    "k_mean = np.mean(k_mean)\n",
    "k_mean"
   ],
   "metadata": {
    "collapsed": false,
    "ExecuteTime": {
     "end_time": "2024-05-06T23:27:41.536599100Z",
     "start_time": "2024-05-06T23:27:41.522577700Z"
    }
   },
   "id": "5ade301c5f41c884",
   "execution_count": 254
  },
  {
   "cell_type": "markdown",
   "source": [
    "## 2.) Keep columns containing estimates"
   ],
   "metadata": {
    "collapsed": false
   },
   "id": "a88c0509f867b1ee"
  },
  {
   "cell_type": "code",
   "outputs": [
    {
     "data": {
      "text/plain": "                 Label (Grouping)  \\\n0               HOUSING OCCUPANCY   \n1             Total housing units   \n2          Occupied housing units   \n3            Vacant housing units   \n4          Homeowner vacancy rate   \n\n  Boonton town, Morris County, New Jersey!!Estimate  \\\n0                                               NaN   \n1                                             3,639   \n2                                             3,414   \n3                                               225   \n4                                               0.0   \n\n  Boonton township, Morris County, New Jersey!!Estimate  \\\n0                                                NaN      \n1                                              1,532      \n2                                              1,411      \n3                                                121      \n4                                                3.1      \n\n  Butler borough, Morris County, New Jersey!!Estimate  \\\n0                                                NaN    \n1                                              3,523    \n2                                              3,482    \n3                                                 41    \n4                                                0.0    \n\n  Chatham borough, Morris County, New Jersey!!Estimate  \\\n0                                                NaN     \n1                                              3,058     \n2                                              2,950     \n3                                                108     \n4                                                0.0     \n\n  Chatham township, Morris County, New Jersey!!Estimate  \\\n0                                                NaN      \n1                                              3,939      \n2                                              3,849      \n3                                                 90      \n4                                                2.4      \n\n  Chester borough, Morris County, New Jersey!!Estimate  \\\n0                                                NaN     \n1                                                596     \n2                                                582     \n3                                                 14     \n4                                                0.0     \n\n  Chester township, Morris County, New Jersey!!Estimate  \\\n0                                                NaN      \n1                                              2,680      \n2                                              2,542      \n3                                                138      \n4                                                4.2      \n\n  Denville township, Morris County, New Jersey!!Estimate  \\\n0                                                NaN       \n1                                              6,970       \n2                                              6,425       \n3                                                545       \n4                                                0.8       \n\n  Dover town, Morris County, New Jersey!!Estimate  ...  \\\n0                                             NaN  ...   \n1                                           6,379  ...   \n2                                           6,128  ...   \n3                                             251  ...   \n4                                             2.0  ...   \n\n  Parsippany-Troy Hills township, Morris County, New Jersey!!Estimate  \\\n0                                                NaN                    \n1                                             22,746                    \n2                                             22,159                    \n3                                                587                    \n4                                                0.5                    \n\n  Pequannock township, Morris County, New Jersey!!Estimate  \\\n0                                                NaN         \n1                                              6,442         \n2                                              6,210         \n3                                                232         \n4                                                0.0         \n\n  Randolph township, Morris County, New Jersey!!Estimate  \\\n0                                                NaN       \n1                                              9,340       \n2                                              9,159       \n3                                                181       \n4                                                0.5       \n\n  Riverdale borough, Morris County, New Jersey!!Estimate  \\\n0                                                NaN       \n1                                              1,954       \n2                                              1,904       \n3                                                 50       \n4                                                0.4       \n\n  Rockaway borough, Morris County, New Jersey!!Estimate  \\\n0                                                NaN      \n1                                              2,674      \n2                                              2,641      \n3                                                 33      \n4                                                0.0      \n\n  Rockaway township, Morris County, New Jersey!!Estimate  \\\n0                                                NaN       \n1                                              9,906       \n2                                              9,163       \n3                                                743       \n4                                                2.4       \n\n  Roxbury township, Morris County, New Jersey!!Estimate  \\\n0                                                NaN      \n1                                              8,593      \n2                                              8,163      \n3                                                430      \n4                                                0.3      \n\n  Victory Gardens borough, Morris County, New Jersey!!Estimate  \\\n0                                                NaN             \n1                                                704             \n2                                                670             \n3                                                 34             \n4                                                3.7             \n\n  Washington township, Morris County, New Jersey!!Estimate  \\\n0                                                NaN         \n1                                              6,571         \n2                                              6,352         \n3                                                219         \n4                                                0.6         \n\n  Wharton borough, Morris County, New Jersey!!Estimate  \n0                                                NaN    \n1                                              2,913    \n2                                              2,779    \n3                                                134    \n4                                                0.0    \n\n[5 rows x 40 columns]",
      "text/html": "<div>\n<style scoped>\n    .dataframe tbody tr th:only-of-type {\n        vertical-align: middle;\n    }\n\n    .dataframe tbody tr th {\n        vertical-align: top;\n    }\n\n    .dataframe thead th {\n        text-align: right;\n    }\n</style>\n<table border=\"1\" class=\"dataframe\">\n  <thead>\n    <tr style=\"text-align: right;\">\n      <th></th>\n      <th>Label (Grouping)</th>\n      <th>Boonton town, Morris County, New Jersey!!Estimate</th>\n      <th>Boonton township, Morris County, New Jersey!!Estimate</th>\n      <th>Butler borough, Morris County, New Jersey!!Estimate</th>\n      <th>Chatham borough, Morris County, New Jersey!!Estimate</th>\n      <th>Chatham township, Morris County, New Jersey!!Estimate</th>\n      <th>Chester borough, Morris County, New Jersey!!Estimate</th>\n      <th>Chester township, Morris County, New Jersey!!Estimate</th>\n      <th>Denville township, Morris County, New Jersey!!Estimate</th>\n      <th>Dover town, Morris County, New Jersey!!Estimate</th>\n      <th>...</th>\n      <th>Parsippany-Troy Hills township, Morris County, New Jersey!!Estimate</th>\n      <th>Pequannock township, Morris County, New Jersey!!Estimate</th>\n      <th>Randolph township, Morris County, New Jersey!!Estimate</th>\n      <th>Riverdale borough, Morris County, New Jersey!!Estimate</th>\n      <th>Rockaway borough, Morris County, New Jersey!!Estimate</th>\n      <th>Rockaway township, Morris County, New Jersey!!Estimate</th>\n      <th>Roxbury township, Morris County, New Jersey!!Estimate</th>\n      <th>Victory Gardens borough, Morris County, New Jersey!!Estimate</th>\n      <th>Washington township, Morris County, New Jersey!!Estimate</th>\n      <th>Wharton borough, Morris County, New Jersey!!Estimate</th>\n    </tr>\n  </thead>\n  <tbody>\n    <tr>\n      <th>0</th>\n      <td>HOUSING OCCUPANCY</td>\n      <td>NaN</td>\n      <td>NaN</td>\n      <td>NaN</td>\n      <td>NaN</td>\n      <td>NaN</td>\n      <td>NaN</td>\n      <td>NaN</td>\n      <td>NaN</td>\n      <td>NaN</td>\n      <td>...</td>\n      <td>NaN</td>\n      <td>NaN</td>\n      <td>NaN</td>\n      <td>NaN</td>\n      <td>NaN</td>\n      <td>NaN</td>\n      <td>NaN</td>\n      <td>NaN</td>\n      <td>NaN</td>\n      <td>NaN</td>\n    </tr>\n    <tr>\n      <th>1</th>\n      <td>Total housing units</td>\n      <td>3,639</td>\n      <td>1,532</td>\n      <td>3,523</td>\n      <td>3,058</td>\n      <td>3,939</td>\n      <td>596</td>\n      <td>2,680</td>\n      <td>6,970</td>\n      <td>6,379</td>\n      <td>...</td>\n      <td>22,746</td>\n      <td>6,442</td>\n      <td>9,340</td>\n      <td>1,954</td>\n      <td>2,674</td>\n      <td>9,906</td>\n      <td>8,593</td>\n      <td>704</td>\n      <td>6,571</td>\n      <td>2,913</td>\n    </tr>\n    <tr>\n      <th>2</th>\n      <td>Occupied housing units</td>\n      <td>3,414</td>\n      <td>1,411</td>\n      <td>3,482</td>\n      <td>2,950</td>\n      <td>3,849</td>\n      <td>582</td>\n      <td>2,542</td>\n      <td>6,425</td>\n      <td>6,128</td>\n      <td>...</td>\n      <td>22,159</td>\n      <td>6,210</td>\n      <td>9,159</td>\n      <td>1,904</td>\n      <td>2,641</td>\n      <td>9,163</td>\n      <td>8,163</td>\n      <td>670</td>\n      <td>6,352</td>\n      <td>2,779</td>\n    </tr>\n    <tr>\n      <th>3</th>\n      <td>Vacant housing units</td>\n      <td>225</td>\n      <td>121</td>\n      <td>41</td>\n      <td>108</td>\n      <td>90</td>\n      <td>14</td>\n      <td>138</td>\n      <td>545</td>\n      <td>251</td>\n      <td>...</td>\n      <td>587</td>\n      <td>232</td>\n      <td>181</td>\n      <td>50</td>\n      <td>33</td>\n      <td>743</td>\n      <td>430</td>\n      <td>34</td>\n      <td>219</td>\n      <td>134</td>\n    </tr>\n    <tr>\n      <th>4</th>\n      <td>Homeowner vacancy rate</td>\n      <td>0.0</td>\n      <td>3.1</td>\n      <td>0.0</td>\n      <td>0.0</td>\n      <td>2.4</td>\n      <td>0.0</td>\n      <td>4.2</td>\n      <td>0.8</td>\n      <td>2.0</td>\n      <td>...</td>\n      <td>0.5</td>\n      <td>0.0</td>\n      <td>0.5</td>\n      <td>0.4</td>\n      <td>0.0</td>\n      <td>2.4</td>\n      <td>0.3</td>\n      <td>3.7</td>\n      <td>0.6</td>\n      <td>0.0</td>\n    </tr>\n  </tbody>\n</table>\n<p>5 rows × 40 columns</p>\n</div>"
     },
     "execution_count": 167,
     "metadata": {},
     "output_type": "execute_result"
    }
   ],
   "source": [
    "# Need to keep columns that only have estimates \n",
    "desired_columns = [x for x in house_df.columns if re.search(r\"!!Estimate$\", x)]\n",
    "house_sub_df = house_df.filter(items=[\"Label (Grouping)\"]+desired_columns)\n",
    "house_sub_df.head()"
   ],
   "metadata": {
    "collapsed": false,
    "ExecuteTime": {
     "end_time": "2024-04-23T05:34:36.082861700Z",
     "start_time": "2024-04-23T05:34:36.056263400Z"
    }
   },
   "id": "739f495c7312a16b",
   "execution_count": 167
  },
  {
   "cell_type": "markdown",
   "source": [
    "## 3.) Preprocess Dataframe"
   ],
   "metadata": {
    "collapsed": false
   },
   "id": "42aab8bcc344161a"
  },
  {
   "cell_type": "code",
   "outputs": [],
   "source": [
    "house_sub_df.dropna(inplace=True) # Drop NAs (really just row headers)\n",
    "house_sub_df.drop_duplicates(inplace=True) # Drop duplicates \n",
    "new_column_names = [x.split(',')[0] for x in house_sub_df.columns[1:]]\n",
    "house_sub_df.columns = [\"Information\"]+new_column_names # Replace columns with just neighbourhood names\n",
    "house_sub_df = house_sub_df.T # Transpose\n",
    "house_sub_df.columns = house_sub_df.iloc[0] # Make first row as column headers\n",
    "house_sub_df.drop(house_sub_df.index[0], axis=0, inplace=True) # drop first row\n",
    "new_column_names = [x.replace(' ', '') for x in house_sub_df.columns] \n",
    "house_sub_df.columns = new_column_names # Replace columns without weird whitespace"
   ],
   "metadata": {
    "collapsed": false,
    "ExecuteTime": {
     "end_time": "2024-04-23T05:34:36.083866500Z",
     "start_time": "2024-04-23T05:34:36.061568300Z"
    }
   },
   "id": "c0eb25548351e779",
   "execution_count": 168
  },
  {
   "cell_type": "markdown",
   "source": [
    "## 4.) Keep relevant columns/features "
   ],
   "metadata": {
    "collapsed": false
   },
   "id": "83c3d04c0be5aaf9"
  },
  {
   "cell_type": "code",
   "outputs": [],
   "source": [
    "# Need to do research on what features I should remove\n",
    "# So far, we have when owner moved in, number of vehicles, gross rent, renters versus owner occupied, year built,\n",
    "# Note that median (dollars has 4 different purposes)\n",
    "\n",
    "desired_features = [\"Moved in 2021 or later\",\"Moved in 2018 to 2020\",\"Moved in 2010 to 2017\",\"Moved in 2000 to 2009\",\"Moved in 1990 to 1999\",\"Moved in 1989 and earlier\",\"No vehicles available\",\"1 vehicle available\",\"2 vehicles available\",\"3 or more vehicles available\",\"Median (dollars)\",\"Occupied housing units\",\"Owner-occupied\",\"Renter-occupied\",\"Built 2020 or later\",\"Built 2010 to 2019\",\"Built 2000 to 2009\",\"Built 1990 to 1999\",\"Built 1980 to 1989\",\"Built 1970 to 1979\",\"Built 1960 to 1969\",\"Built 1950 to 1959\",\"Built 1940 to 1949\",\"Built 1939 or earlier\"]\n",
    "\n",
    "house_sub_df = house_sub_df[desired_features]"
   ],
   "metadata": {
    "collapsed": false,
    "ExecuteTime": {
     "end_time": "2024-04-23T05:34:36.083866500Z",
     "start_time": "2024-04-23T05:34:36.072261400Z"
    }
   },
   "id": "cf5b3e9838ee24c0",
   "execution_count": 169
  },
  {
   "cell_type": "code",
   "outputs": [],
   "source": [
    "# First median == Value\n",
    "# Second median == Monthly Ownership costs\n",
    "# Third median == Monthly Ownership costs 2\n",
    "# Fourth median == Gross Rent\n",
    "\n",
    "new_column_names = []\n",
    "cnt = 0\n",
    "for col in house_sub_df.columns:\n",
    "    if col == \"Median (dollars)\":\n",
    "        if cnt == 0:\n",
    "            new_column_names.append(\"Median Home Value\")\n",
    "        elif cnt == 3 :\n",
    "            new_column_names.append(\"Median Gross Rent\")\n",
    "        else:\n",
    "            new_column_names.append(\"Drop\")\n",
    "        cnt += 1\n",
    "    else:\n",
    "        new_column_names.append(col)\n",
    "    \n",
    "house_sub_df.columns = new_column_names\n",
    "house_sub_cleaned = house_sub_df.drop(\"Drop\", axis=1)"
   ],
   "metadata": {
    "collapsed": false,
    "ExecuteTime": {
     "end_time": "2024-04-23T05:34:36.083866500Z",
     "start_time": "2024-04-23T05:34:36.076056100Z"
    }
   },
   "id": "2249502f8d22e037",
   "execution_count": 170
  },
  {
   "cell_type": "code",
   "outputs": [],
   "source": [
    "house_sub_cleaned.reset_index(inplace=True)\n",
    "house_sub_cleaned.rename(columns={\"index\": \"town\"}, inplace=True)"
   ],
   "metadata": {
    "collapsed": false,
    "ExecuteTime": {
     "end_time": "2024-04-23T05:34:36.101963400Z",
     "start_time": "2024-04-23T05:34:36.081830600Z"
    }
   },
   "id": "50de0ffc4f85d9b4",
   "execution_count": 171
  },
  {
   "cell_type": "markdown",
   "source": [
    "## 5.) Need to rename town names to match the official Morris County Registry"
   ],
   "metadata": {
    "collapsed": false
   },
   "id": "c481b7f5d22fbeed"
  },
  {
   "cell_type": "code",
   "outputs": [],
   "source": [
    "change_dict = {'Boonton town':'Boonton Town','Boonton township':'Boonton Township','Butler borough':'Butler Borough','Chatham borough':'Chatham Borough','Chatham township':'Chatham Township','Chester borough':'Chester Borough','Chester township':'Chester Township','Denville township':'Denville Township','Dover town':'Dover Town','East Hanover township':'East Hanover Township','Florham Park borough':'Florham Park Borough','Hanover township':'Hanover Township','Harding township':'Harding Township','Jefferson township':'Jefferson Township','Kinnelon borough':'Kinnelon Borough','Lincoln Park borough':'Lincoln Park Borough','Long Hill township':'Long Hill Township','Madison borough':'Madison Borough','Mendham borough':'Mendham Borough','Mendham township':'Mendham Township','Mine Hill township':'Mine Hill Township','Montville township':'Montville Township','Morris township':'Morris Township','Morris Plains borough':'Morris Plains Borough','Morristown town':'Morristown Town','Mountain Lakes borough':'Mountain Lakes Borough','Mount Arlington borough':'Mount Arlington Borough','Mount Olive township':'Mount Olive Township','Netcong borough':'Netcong Borough','Parsippany-Troy Hills township':'Parsippany-Troy Hills Township','Pequannock township':'Pequannock Township','Randolph township':'Randolph Township','Riverdale borough':'Riverdale Borough','Rockaway borough':'Rockaway Borough','Rockaway township':'Rockaway Township','Roxbury township':'Roxbury Township','Victory Gardens borough':'Victory Gardens Borough','Washington township':'Washington Township','Wharton borough':'Wharton Borough'}\n",
    "\n",
    "house_sub_cleaned.replace({'town': change_dict}, inplace=True)"
   ],
   "metadata": {
    "collapsed": false,
    "ExecuteTime": {
     "end_time": "2024-04-23T05:34:36.116077500Z",
     "start_time": "2024-04-23T05:34:36.088364Z"
    }
   },
   "id": "bd582405a29584c3",
   "execution_count": 172
  },
  {
   "cell_type": "markdown",
   "source": [
    "## 6.) Remove some data for better model"
   ],
   "metadata": {
    "collapsed": false
   },
   "id": "a05a2aadf2fda390"
  },
  {
   "cell_type": "code",
   "outputs": [
    {
     "data": {
      "text/plain": "Index(['town', 'Moved in 2021 or later', 'Moved in 2018 to 2020',\n       'Moved in 2010 to 2017', 'Moved in 2000 to 2009',\n       'Moved in 1990 to 1999', 'Moved in 1989 and earlier',\n       'No vehicles available', '1 vehicle available', '2 vehicles available',\n       '3 or more vehicles available', 'Median Home Value',\n       'Median Gross Rent', 'Occupied housing units', 'Occupied housing units',\n       'Owner-occupied', 'Renter-occupied', 'Built 2020 or later',\n       'Built 2010 to 2019', 'Built 2000 to 2009', 'Built 1990 to 1999',\n       'Built 1980 to 1989', 'Built 1970 to 1979', 'Built 1960 to 1969',\n       'Built 1950 to 1959', 'Built 1940 to 1949', 'Built 1939 or earlier'],\n      dtype='object')"
     },
     "execution_count": 173,
     "metadata": {},
     "output_type": "execute_result"
    }
   ],
   "source": [
    "house_sub_cleaned.columns"
   ],
   "metadata": {
    "collapsed": false,
    "ExecuteTime": {
     "end_time": "2024-04-23T05:34:36.138055700Z",
     "start_time": "2024-04-23T05:34:36.105475Z"
    }
   },
   "id": "721f1c43012bbbb3",
   "execution_count": 173
  },
  {
   "cell_type": "code",
   "outputs": [
    {
     "data": {
      "text/plain": "Index(['town', 'Median Home Value', 'Median Gross Rent',\n       'Occupied housing units', 'Owner-occupied', 'Renter-occupied',\n       'Built 2020 or later', 'Built 2010 to 2019', 'Built 2000 to 2009',\n       'Built 1990 to 1999', 'Built 1980 to 1989', 'Built 1970 to 1979',\n       'Built 1960 to 1969', 'Built 1950 to 1959', 'Built 1940 to 1949',\n       'Built 1939 or earlier'],\n      dtype='object')"
     },
     "execution_count": 174,
     "metadata": {},
     "output_type": "execute_result"
    }
   ],
   "source": [
    "house_sub_cleaned.drop(['Moved in 2021 or later', 'Moved in 2018 to 2020',\n",
    "       'Moved in 2010 to 2017', 'Moved in 2000 to 2009',\n",
    "       'Moved in 1990 to 1999', 'Moved in 1989 and earlier',\n",
    "       'No vehicles available', '1 vehicle available', '2 vehicles available',\n",
    "       '3 or more vehicles available'],axis=1, inplace=True)\n",
    "house_sub_cleaned = house_sub_cleaned.T.drop_duplicates().T\n",
    "house_sub_cleaned.columns"
   ],
   "metadata": {
    "collapsed": false,
    "ExecuteTime": {
     "end_time": "2024-04-23T05:34:36.162519600Z",
     "start_time": "2024-04-23T05:34:36.125488500Z"
    }
   },
   "id": "14905c174c064f9",
   "execution_count": 174
  },
  {
   "cell_type": "code",
   "outputs": [],
   "source": [
    "house_sub_cleaned.to_csv(\"censusMorrisCleaned.csv\", index=False)"
   ],
   "metadata": {
    "collapsed": false,
    "ExecuteTime": {
     "end_time": "2024-04-23T05:34:36.182498200Z",
     "start_time": "2024-04-23T05:34:36.166509600Z"
    }
   },
   "id": "a6ffded43e7a5444",
   "execution_count": 175
  }
 ],
 "metadata": {
  "kernelspec": {
   "display_name": "Python 3",
   "language": "python",
   "name": "python3"
  },
  "language_info": {
   "codemirror_mode": {
    "name": "ipython",
    "version": 2
   },
   "file_extension": ".py",
   "mimetype": "text/x-python",
   "name": "python",
   "nbconvert_exporter": "python",
   "pygments_lexer": "ipython2",
   "version": "2.7.6"
  }
 },
 "nbformat": 4,
 "nbformat_minor": 5
}
