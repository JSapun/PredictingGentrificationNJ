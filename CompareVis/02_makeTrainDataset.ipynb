{
 "cells": [
  {
   "cell_type": "markdown",
   "source": [
    "# This file creates the training dataset\n",
    "##### Done by merging the numerical results from comparing images to image pair data (of training image pairs)."
   ],
   "metadata": {
    "collapsed": false
   },
   "id": "13f771450b131578"
  },
  {
   "cell_type": "code",
   "execution_count": 5,
   "id": "initial_id",
   "metadata": {
    "collapsed": true,
    "ExecuteTime": {
     "end_time": "2024-04-17T06:10:45.864053700Z",
     "start_time": "2024-04-17T06:10:45.859533100Z"
    }
   },
   "outputs": [],
   "source": [
    "import pandas as pd\n",
    "\n",
    "df1 = pd.read_csv('../manualTrainingSetSelection/csv/imgsForTrainingByChange.csv')\n",
    "df2 = pd.read_csv('./files/trainingNumericalAnalysis.csv')"
   ]
  },
  {
   "cell_type": "code",
   "outputs": [],
   "source": [
    "df = df1.merge(df2, left_on='img', right_on='sample', how='inner').drop('sample', axis=1)"
   ],
   "metadata": {
    "collapsed": false,
    "ExecuteTime": {
     "end_time": "2024-04-17T06:12:45.624771200Z",
     "start_time": "2024-04-17T06:12:45.618256900Z"
    }
   },
   "id": "35b27f3083a9f1b1",
   "execution_count": 15
  },
  {
   "cell_type": "code",
   "outputs": [],
   "source": [
    "df.to_csv(\"./files/trainingSet.csv\", index=False)"
   ],
   "metadata": {
    "collapsed": false,
    "ExecuteTime": {
     "end_time": "2024-04-17T06:13:22.212498600Z",
     "start_time": "2024-04-17T06:13:22.204848300Z"
    }
   },
   "id": "9c2cc8ab52104b91",
   "execution_count": 17
  }
 ],
 "metadata": {
  "kernelspec": {
   "display_name": "Python 3",
   "language": "python",
   "name": "python3"
  },
  "language_info": {
   "codemirror_mode": {
    "name": "ipython",
    "version": 2
   },
   "file_extension": ".py",
   "mimetype": "text/x-python",
   "name": "python",
   "nbconvert_exporter": "python",
   "pygments_lexer": "ipython2",
   "version": "2.7.6"
  }
 },
 "nbformat": 4,
 "nbformat_minor": 5
}
