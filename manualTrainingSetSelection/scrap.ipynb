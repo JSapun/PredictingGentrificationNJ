{
 "cells": [
  {
   "cell_type": "code",
   "execution_count": 122,
   "id": "initial_id",
   "metadata": {
    "collapsed": true,
    "ExecuteTime": {
     "end_time": "2024-04-30T19:16:45.368890400Z",
     "start_time": "2024-04-30T19:16:45.353689300Z"
    }
   },
   "outputs": [],
   "source": [
    "import pandas as pd\n",
    "import numpy as np\n",
    "import ast\n",
    "from datetime import datetime\n",
    "\n",
    "df = pd.read_csv('./csv/randomImagePairInfo.csv')\n",
    "df2 = pd.read_csv('../MorrisCountyImages/csv/randomImagePairInfo.csv')"
   ]
  },
  {
   "cell_type": "code",
   "outputs": [],
   "source": [
    "df_list = [ast.literal_eval(x) for x in df.dates.values]\n",
    "df2_list = [ast.literal_eval(x) for x in df2.dates.values]\n",
    "\n",
    "dates1 = [[datetime.strptime(date, \"%Y-%M\") for date in x] for x in df_list]\n",
    "dates2 = [[datetime.strptime(date, \"%Y-%M\") for date in x] for x in df2_list]"
   ],
   "metadata": {
    "collapsed": false,
    "ExecuteTime": {
     "end_time": "2024-04-30T19:16:45.514994900Z",
     "start_time": "2024-04-30T19:16:45.505741300Z"
    }
   },
   "id": "5f7179a700536c81",
   "execution_count": 123
  },
  {
   "cell_type": "code",
   "outputs": [],
   "source": [
    "comb = np.concatenate((dates1, dates2))"
   ],
   "metadata": {
    "collapsed": false,
    "ExecuteTime": {
     "end_time": "2024-04-30T19:16:45.616513600Z",
     "start_time": "2024-04-30T19:16:45.611969500Z"
    }
   },
   "id": "807f5b3832537145",
   "execution_count": 124
  },
  {
   "cell_type": "code",
   "outputs": [],
   "source": [
    "import datetime\n",
    "def avg(dates):\n",
    "  any_reference_date = datetime.datetime(1900, 1, 1)\n",
    "  return any_reference_date + sum([date - any_reference_date for date in dates], datetime.timedelta()) / len(dates)"
   ],
   "metadata": {
    "collapsed": false,
    "ExecuteTime": {
     "end_time": "2024-04-30T19:20:40.543815100Z",
     "start_time": "2024-04-30T19:20:40.531009800Z"
    }
   },
   "id": "4ce1fab4042df21b",
   "execution_count": 134
  },
  {
   "cell_type": "code",
   "outputs": [],
   "source": [
    "val = dates1\n",
    "min1 = np.min([date[0] for date in val])\n",
    "max1 = np.max([date[0] for date in val])\n",
    "min2 = np.min([date[1] for date in val])\n",
    "max2 = np.max([date[1] for date in val])\n",
    "avg1 = avg([date[0] for date in val])\n",
    "avg2 = avg([date[1] for date in val])"
   ],
   "metadata": {
    "collapsed": false,
    "ExecuteTime": {
     "end_time": "2024-04-30T19:20:40.827015200Z",
     "start_time": "2024-04-30T19:20:40.814853300Z"
    }
   },
   "id": "a94495871a9c57ff",
   "execution_count": 135
  },
  {
   "cell_type": "code",
   "outputs": [
    {
     "data": {
      "text/plain": "                     Before                   After\nmin 2007-01-01 00:08:00.000 2008-01-01 00:10:00.000\nmax 2023-01-01 00:05:00.000 2023-01-01 00:05:00.000\navg 2009-03-14 14:18:20.700 2019-03-21 14:28:50.100",
      "text/html": "<div>\n<style scoped>\n    .dataframe tbody tr th:only-of-type {\n        vertical-align: middle;\n    }\n\n    .dataframe tbody tr th {\n        vertical-align: top;\n    }\n\n    .dataframe thead th {\n        text-align: right;\n    }\n</style>\n<table border=\"1\" class=\"dataframe\">\n  <thead>\n    <tr style=\"text-align: right;\">\n      <th></th>\n      <th>Before</th>\n      <th>After</th>\n    </tr>\n  </thead>\n  <tbody>\n    <tr>\n      <th>min</th>\n      <td>2007-01-01 00:08:00.000</td>\n      <td>2008-01-01 00:10:00.000</td>\n    </tr>\n    <tr>\n      <th>max</th>\n      <td>2023-01-01 00:05:00.000</td>\n      <td>2023-01-01 00:05:00.000</td>\n    </tr>\n    <tr>\n      <th>avg</th>\n      <td>2009-03-14 14:18:20.700</td>\n      <td>2019-03-21 14:28:50.100</td>\n    </tr>\n  </tbody>\n</table>\n</div>"
     },
     "execution_count": 143,
     "metadata": {},
     "output_type": "execute_result"
    }
   ],
   "source": [
    "tb = pd.DataFrame({'Before': [min1, max1, avg1], 'After':[min2, max2, avg2]}, index=[\"min\",\"max\",\"avg\"])\n",
    "tb"
   ],
   "metadata": {
    "collapsed": false,
    "ExecuteTime": {
     "end_time": "2024-04-30T19:21:50.802411800Z",
     "start_time": "2024-04-30T19:21:50.796171800Z"
    }
   },
   "id": "a5d2064df1cc2db7",
   "execution_count": 143
  }
 ],
 "metadata": {
  "kernelspec": {
   "display_name": "Python 3",
   "language": "python",
   "name": "python3"
  },
  "language_info": {
   "codemirror_mode": {
    "name": "ipython",
    "version": 2
   },
   "file_extension": ".py",
   "mimetype": "text/x-python",
   "name": "python",
   "nbconvert_exporter": "python",
   "pygments_lexer": "ipython2",
   "version": "2.7.6"
  }
 },
 "nbformat": 4,
 "nbformat_minor": 5
}
