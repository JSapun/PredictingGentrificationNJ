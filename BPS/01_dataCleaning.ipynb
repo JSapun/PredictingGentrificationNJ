{
 "cells": [
  {
   "cell_type": "code",
   "execution_count": 79,
   "id": "initial_id",
   "metadata": {
    "collapsed": true,
    "ExecuteTime": {
     "end_time": "2024-04-23T05:40:47.695455200Z",
     "start_time": "2024-04-23T05:39:23.659035200Z"
    }
   },
   "outputs": [],
   "source": [
    "import pandas as pd\n",
    "from IPython.core.interactiveshell import InteractiveShell \n",
    "InteractiveShell.ast_node_interactivity = \"all\"\n",
    "import warnings\n",
    "warnings.filterwarnings('ignore')\n",
    "\n",
    "df = pd.read_csv(\"../Data/BPS_NJ.csv\",on_bad_lines=\"skip\",encoding='latin-1')#nrows=10"
   ]
  },
  {
   "cell_type": "code",
   "outputs": [
    {
     "data": {
      "text/plain": "Index(['BLDGS_1_UNIT', 'BLDGS_1_UNIT_REP', 'BLDGS_2_UNITS',\n       'BLDGS_2_UNITS_REP', 'BLDGS_3_4_UNITS', 'BLDGS_3_4_UNITS_REP',\n       'BLDGS_5_UNITS', 'BLDGS_5_UNITS_REP', 'CBSA_CODE', 'CBSA_NAME',\n       'CENSUS_PLACE_CODE', 'CENTRAL_CITY', 'COUNTY_CODE', 'COUNTY_NAME',\n       'CSA_CODE', 'DIVISION_CODE', 'DIVISION_NAME', 'FILE_NAME',\n       'FIPS_COUNTY_5_DIGITS', 'FIPS_MCD_CODE', 'FIPS_PLACE_CODE',\n       'FOOTNOTE_CODE', 'ID_6_DIGIT', 'LOCATION_TYPE', 'MONCOV', 'MONTH',\n       'NUMBER_OF_MONTHS_REP', 'PERIOD', 'PLACE_NAME', 'UNIQUE_PLACE_ID',\n       'POP', 'REGION_CODE', 'REGION_NAME', 'SOURCE_CODE', 'STATE_CODE',\n       'STATE_NAME', 'SURVEY_DATE', 'TOTAL_BLDGS', 'TOTAL_BLDGS_REP',\n       'TOTAL_UNITS', 'TOTAL_UNITS_REP', 'TOTAL_VALUE', 'TOTAL_VALUE_REP',\n       'UNITS_1_UNIT', 'UNITS_1_UNIT_REP', 'UNITS_2_UNITS',\n       'UNITS_2_UNITS_REP', 'UNITS_3_4_UNITS', 'UNITS_3_4_UNITS_REP',\n       'UNITS_5_UNITS', 'UNITS_5_UNITS_REP', 'VALUE_1_UNIT',\n       'VALUE_1_UNIT_REP', 'VALUE_2_UNITS', 'VALUE_2_UNITS_REP',\n       'VALUE_3_4_UNITS', 'VALUE_3_4_UNITS_REP', 'VALUE_5_UNITS',\n       'VALUE_5_UNITS_REP', 'YEAR', 'ZIP_CODE', 'LOCATION_NAME'],\n      dtype='object')"
     },
     "execution_count": 80,
     "metadata": {},
     "output_type": "execute_result"
    }
   ],
   "source": [
    "df.columns"
   ],
   "metadata": {
    "collapsed": false,
    "ExecuteTime": {
     "end_time": "2024-04-23T05:40:47.727268Z",
     "start_time": "2024-04-23T05:40:47.723186600Z"
    }
   },
   "id": "16167882ef326eef",
   "execution_count": 80
  },
  {
   "cell_type": "markdown",
   "source": [
    "### Subset to Morris County"
   ],
   "metadata": {
    "collapsed": false
   },
   "id": "73294fa6039d28b5"
  },
  {
   "cell_type": "code",
   "outputs": [],
   "source": [
    "df_nj = df[df[\"STATE_NAME\"] == \"New Jersey\"]"
   ],
   "metadata": {
    "collapsed": false,
    "ExecuteTime": {
     "end_time": "2024-04-23T05:40:48.530042500Z",
     "start_time": "2024-04-23T05:40:48.129539900Z"
    }
   },
   "id": "402913dd5700b69a",
   "execution_count": 81
  },
  {
   "cell_type": "code",
   "outputs": [],
   "source": [
    "df_morris = df_nj[df_nj[\"COUNTY_NAME\"] == \"Morris County\"]"
   ],
   "metadata": {
    "collapsed": false,
    "ExecuteTime": {
     "end_time": "2024-04-23T05:40:48.574768100Z",
     "start_time": "2024-04-23T05:40:48.532543200Z"
    }
   },
   "id": "d753e59b0a049b30",
   "execution_count": 82
  },
  {
   "cell_type": "code",
   "outputs": [
    {
     "data": {
      "text/plain": "(35861, 62)"
     },
     "execution_count": 83,
     "metadata": {},
     "output_type": "execute_result"
    }
   ],
   "source": [
    "df_morris.shape"
   ],
   "metadata": {
    "collapsed": false,
    "ExecuteTime": {
     "end_time": "2024-04-23T05:40:48.580016500Z",
     "start_time": "2024-04-23T05:40:48.574768100Z"
    }
   },
   "id": "11db1959157bf0ec",
   "execution_count": 83
  },
  {
   "cell_type": "markdown",
   "source": [
    "### Need to rename town names"
   ],
   "metadata": {
    "collapsed": false
   },
   "id": "1d8ec9a035064875"
  },
  {
   "cell_type": "code",
   "outputs": [],
   "source": [
    "change_dict = {'Boonton town':'Boonton Town','Boonton township':'Boonton Township','Butler borough':'Butler Borough','Chatham borough':'Chatham Borough','Chatham township':'Chatham Township','Chester borough':'Chester Borough','Chester township':'Chester Township','Denville township':'Denville Township','Dover town':'Dover Town','East Hanover township':'East Hanover Township','Florham Park borough':'Florham Park Borough','Hanover township':'Hanover Township','Harding township':'Harding Township','Jefferson township':'Jefferson Township','Kinnelon borough':'Kinnelon Borough','Lincoln Park borough':'Lincoln Park Borough','Long Hill township':'Long Hill Township','Madison borough':'Madison Borough','Mendham borough':'Mendham Borough','Mendham township':'Mendham Township','Mine Hill township':'Mine Hill Township','Montville township':'Montville Township','Morris township':'Morris Township','Morris Plains borough':'Morris Plains Borough','Morristown town':'Morristown Town','Mountain Lakes borough':'Mountain Lakes Borough','Mount Arlington borough':'Mount Arlington Borough','Mount Olive township':'Mount Olive Township','Netcong borough':'Netcong Borough','Parsippany-Troy Hills township':'Parsippany-Troy Hills Township','Pequannock township':'Pequannock Township','Randolph township':'Randolph Township','Riverdale borough':'Riverdale Borough','Rockaway borough':'Rockaway Borough','Rockaway township':'Rockaway Township','Roxbury township':'Roxbury Township','Victory Gardens borough':'Victory Gardens Borough','Washington township':'Washington Township','Wharton borough':'Wharton Borough'}\n",
    "\n",
    "df_morris.replace({'LOCATION_NAME': change_dict}, inplace=True)"
   ],
   "metadata": {
    "collapsed": false,
    "ExecuteTime": {
     "end_time": "2024-04-23T05:40:48.639599200Z",
     "start_time": "2024-04-23T05:40:48.588632300Z"
    }
   },
   "id": "79ea41ad50312259",
   "execution_count": 84
  },
  {
   "cell_type": "code",
   "outputs": [
    {
     "data": {
      "text/plain": "59"
     },
     "execution_count": 85,
     "metadata": {},
     "output_type": "execute_result"
    }
   ],
   "source": [
    "# Should be 39, so we have to exclude some outliers\n",
    "df_morris.LOCATION_NAME.nunique()"
   ],
   "metadata": {
    "collapsed": false,
    "ExecuteTime": {
     "end_time": "2024-04-23T05:40:48.651654300Z",
     "start_time": "2024-04-23T05:40:48.641383800Z"
    }
   },
   "id": "8ed8a83c2fd8c5a2",
   "execution_count": 85
  },
  {
   "cell_type": "markdown",
   "source": [],
   "metadata": {
    "collapsed": false
   },
   "id": "2b6e562045daf14"
  },
  {
   "cell_type": "code",
   "outputs": [
    {
     "data": {
      "text/plain": "39"
     },
     "execution_count": 86,
     "metadata": {},
     "output_type": "execute_result"
    }
   ],
   "source": [
    "towns = list(pd.read_csv('../MorrisCountyImages/csv/morris_towns.csv').towns)\n",
    "df_morris = df_morris[df_morris.LOCATION_NAME.isin(towns)]\n",
    "df_morris.LOCATION_NAME.nunique()"
   ],
   "metadata": {
    "collapsed": false,
    "ExecuteTime": {
     "end_time": "2024-04-23T05:40:48.684791400Z",
     "start_time": "2024-04-23T05:40:48.653181900Z"
    }
   },
   "id": "413130942fcea2b1",
   "execution_count": 86
  },
  {
   "cell_type": "markdown",
   "source": [
    "### Subset to useful columns, (not including reported values, but rather estimated with imputations)"
   ],
   "metadata": {
    "collapsed": false
   },
   "id": "baae41bdf66ec5a0"
  },
  {
   "cell_type": "code",
   "outputs": [],
   "source": [
    "meaningful_columns = ['BLDGS_1_UNIT','BLDGS_2_UNITS','BLDGS_3_4_UNITS','BLDGS_5_UNITS','TOTAL_BLDGS',\n",
    "                    'TOTAL_UNITS','TOTAL_VALUE','UNITS_1_UNIT','UNITS_2_UNITS','UNITS_3_4_UNITS',\n",
    "                    'UNITS_5_UNITS', 'VALUE_1_UNIT', 'VALUE_2_UNITS','VALUE_3_4_UNITS', 'VALUE_5_UNITS']"
   ],
   "metadata": {
    "collapsed": false,
    "ExecuteTime": {
     "end_time": "2024-04-23T05:40:48.692188900Z",
     "start_time": "2024-04-23T05:40:48.689537Z"
    }
   },
   "id": "64fff3d4afab1163",
   "execution_count": 87
  },
  {
   "cell_type": "code",
   "outputs": [
    {
     "data": {
      "text/plain": "          BLDGS_1_UNIT  BLDGS_1_UNIT_REP  BLDGS_2_UNITS  BLDGS_2_UNITS_REP  \\\n13999                1               NaN              0                NaN   \n14000                0               NaN              0                NaN   \n14001                0               NaN              0                NaN   \n14002                2               NaN              0                NaN   \n14003                1               NaN              0                NaN   \n...                ...               ...            ...                ...   \n10294383             0               0.0              0                0.0   \n10294384             2               2.0              0                0.0   \n10294385             0               0.0              0                0.0   \n10294386             0               0.0              0                0.0   \n10294387             0               0.0              0                0.0   \n\n          BLDGS_3_4_UNITS  BLDGS_3_4_UNITS_REP  BLDGS_5_UNITS  \\\n13999                   0                  NaN              1   \n14000                   0                  NaN              0   \n14001                   0                  NaN              0   \n14002                   0                  NaN              0   \n14003                   0                  NaN              0   \n...                   ...                  ...            ...   \n10294383                0                  0.0              1   \n10294384                1                  1.0              0   \n10294385                0                  0.0              0   \n10294386                0                  0.0              0   \n10294387                0                  0.0              1   \n\n          BLDGS_5_UNITS_REP  CBSA_CODE CBSA_NAME  ...  VALUE_1_UNIT_REP  \\\n13999                   NaN    35620.0       NaN  ...               NaN   \n14000                   NaN    35620.0       NaN  ...               NaN   \n14001                   NaN    35620.0       NaN  ...               NaN   \n14002                   NaN    35620.0       NaN  ...               NaN   \n14003                   NaN    35620.0       NaN  ...               NaN   \n...                     ...        ...       ...  ...               ...   \n10294383                1.0    35620.0       NaN  ...               0.0   \n10294384                0.0    35620.0       NaN  ...          510140.0   \n10294385                0.0    35620.0       NaN  ...               0.0   \n10294386                0.0    35620.0       NaN  ...               0.0   \n10294387                1.0    35620.0       NaN  ...               0.0   \n\n         VALUE_2_UNITS  VALUE_2_UNITS_REP VALUE_3_4_UNITS  \\\n13999                0                NaN               0   \n14000                0                NaN               0   \n14001                0                NaN               0   \n14002                0                NaN               0   \n14003                0                NaN               0   \n...                ...                ...             ...   \n10294383             0                0.0               0   \n10294384             0                0.0          142000   \n10294385             0                0.0               0   \n10294386             0                0.0               0   \n10294387             0                0.0               0   \n\n          VALUE_3_4_UNITS_REP  VALUE_5_UNITS VALUE_5_UNITS_REP  YEAR  \\\n13999                     NaN         392000               NaN  2021   \n14000                     NaN              0               NaN  2021   \n14001                     NaN              0               NaN  2021   \n14002                     NaN              0               NaN  2021   \n14003                     NaN              0               NaN  2021   \n...                       ...            ...               ...   ...   \n10294383                  0.0         386800          386800.0  2024   \n10294384             142000.0              0               0.0  2024   \n10294385                  0.0              0               0.0  2024   \n10294386                  0.0              0               0.0  2024   \n10294387                  0.0        1772100         1772100.0  2024   \n\n          ZIP_CODE            LOCATION_NAME  \n13999         7930          Chester Borough  \n14000         7930         Chester Township  \n14001         7930         Chester Township  \n14002     78342122        Denville Township  \n14003     78342122        Denville Township  \n...            ...                      ...  \n10294383      7866        Rockaway Township  \n10294384      7852         Roxbury Township  \n10294385      7801  Victory Gardens Borough  \n10294386  78530216      Washington Township  \n10294387      7885          Wharton Borough  \n\n[34893 rows x 62 columns]",
      "text/html": "<div>\n<style scoped>\n    .dataframe tbody tr th:only-of-type {\n        vertical-align: middle;\n    }\n\n    .dataframe tbody tr th {\n        vertical-align: top;\n    }\n\n    .dataframe thead th {\n        text-align: right;\n    }\n</style>\n<table border=\"1\" class=\"dataframe\">\n  <thead>\n    <tr style=\"text-align: right;\">\n      <th></th>\n      <th>BLDGS_1_UNIT</th>\n      <th>BLDGS_1_UNIT_REP</th>\n      <th>BLDGS_2_UNITS</th>\n      <th>BLDGS_2_UNITS_REP</th>\n      <th>BLDGS_3_4_UNITS</th>\n      <th>BLDGS_3_4_UNITS_REP</th>\n      <th>BLDGS_5_UNITS</th>\n      <th>BLDGS_5_UNITS_REP</th>\n      <th>CBSA_CODE</th>\n      <th>CBSA_NAME</th>\n      <th>...</th>\n      <th>VALUE_1_UNIT_REP</th>\n      <th>VALUE_2_UNITS</th>\n      <th>VALUE_2_UNITS_REP</th>\n      <th>VALUE_3_4_UNITS</th>\n      <th>VALUE_3_4_UNITS_REP</th>\n      <th>VALUE_5_UNITS</th>\n      <th>VALUE_5_UNITS_REP</th>\n      <th>YEAR</th>\n      <th>ZIP_CODE</th>\n      <th>LOCATION_NAME</th>\n    </tr>\n  </thead>\n  <tbody>\n    <tr>\n      <th>13999</th>\n      <td>1</td>\n      <td>NaN</td>\n      <td>0</td>\n      <td>NaN</td>\n      <td>0</td>\n      <td>NaN</td>\n      <td>1</td>\n      <td>NaN</td>\n      <td>35620.0</td>\n      <td>NaN</td>\n      <td>...</td>\n      <td>NaN</td>\n      <td>0</td>\n      <td>NaN</td>\n      <td>0</td>\n      <td>NaN</td>\n      <td>392000</td>\n      <td>NaN</td>\n      <td>2021</td>\n      <td>7930</td>\n      <td>Chester Borough</td>\n    </tr>\n    <tr>\n      <th>14000</th>\n      <td>0</td>\n      <td>NaN</td>\n      <td>0</td>\n      <td>NaN</td>\n      <td>0</td>\n      <td>NaN</td>\n      <td>0</td>\n      <td>NaN</td>\n      <td>35620.0</td>\n      <td>NaN</td>\n      <td>...</td>\n      <td>NaN</td>\n      <td>0</td>\n      <td>NaN</td>\n      <td>0</td>\n      <td>NaN</td>\n      <td>0</td>\n      <td>NaN</td>\n      <td>2021</td>\n      <td>7930</td>\n      <td>Chester Township</td>\n    </tr>\n    <tr>\n      <th>14001</th>\n      <td>0</td>\n      <td>NaN</td>\n      <td>0</td>\n      <td>NaN</td>\n      <td>0</td>\n      <td>NaN</td>\n      <td>0</td>\n      <td>NaN</td>\n      <td>35620.0</td>\n      <td>NaN</td>\n      <td>...</td>\n      <td>NaN</td>\n      <td>0</td>\n      <td>NaN</td>\n      <td>0</td>\n      <td>NaN</td>\n      <td>0</td>\n      <td>NaN</td>\n      <td>2021</td>\n      <td>7930</td>\n      <td>Chester Township</td>\n    </tr>\n    <tr>\n      <th>14002</th>\n      <td>2</td>\n      <td>NaN</td>\n      <td>0</td>\n      <td>NaN</td>\n      <td>0</td>\n      <td>NaN</td>\n      <td>0</td>\n      <td>NaN</td>\n      <td>35620.0</td>\n      <td>NaN</td>\n      <td>...</td>\n      <td>NaN</td>\n      <td>0</td>\n      <td>NaN</td>\n      <td>0</td>\n      <td>NaN</td>\n      <td>0</td>\n      <td>NaN</td>\n      <td>2021</td>\n      <td>78342122</td>\n      <td>Denville Township</td>\n    </tr>\n    <tr>\n      <th>14003</th>\n      <td>1</td>\n      <td>NaN</td>\n      <td>0</td>\n      <td>NaN</td>\n      <td>0</td>\n      <td>NaN</td>\n      <td>0</td>\n      <td>NaN</td>\n      <td>35620.0</td>\n      <td>NaN</td>\n      <td>...</td>\n      <td>NaN</td>\n      <td>0</td>\n      <td>NaN</td>\n      <td>0</td>\n      <td>NaN</td>\n      <td>0</td>\n      <td>NaN</td>\n      <td>2021</td>\n      <td>78342122</td>\n      <td>Denville Township</td>\n    </tr>\n    <tr>\n      <th>...</th>\n      <td>...</td>\n      <td>...</td>\n      <td>...</td>\n      <td>...</td>\n      <td>...</td>\n      <td>...</td>\n      <td>...</td>\n      <td>...</td>\n      <td>...</td>\n      <td>...</td>\n      <td>...</td>\n      <td>...</td>\n      <td>...</td>\n      <td>...</td>\n      <td>...</td>\n      <td>...</td>\n      <td>...</td>\n      <td>...</td>\n      <td>...</td>\n      <td>...</td>\n      <td>...</td>\n    </tr>\n    <tr>\n      <th>10294383</th>\n      <td>0</td>\n      <td>0.0</td>\n      <td>0</td>\n      <td>0.0</td>\n      <td>0</td>\n      <td>0.0</td>\n      <td>1</td>\n      <td>1.0</td>\n      <td>35620.0</td>\n      <td>NaN</td>\n      <td>...</td>\n      <td>0.0</td>\n      <td>0</td>\n      <td>0.0</td>\n      <td>0</td>\n      <td>0.0</td>\n      <td>386800</td>\n      <td>386800.0</td>\n      <td>2024</td>\n      <td>7866</td>\n      <td>Rockaway Township</td>\n    </tr>\n    <tr>\n      <th>10294384</th>\n      <td>2</td>\n      <td>2.0</td>\n      <td>0</td>\n      <td>0.0</td>\n      <td>1</td>\n      <td>1.0</td>\n      <td>0</td>\n      <td>0.0</td>\n      <td>35620.0</td>\n      <td>NaN</td>\n      <td>...</td>\n      <td>510140.0</td>\n      <td>0</td>\n      <td>0.0</td>\n      <td>142000</td>\n      <td>142000.0</td>\n      <td>0</td>\n      <td>0.0</td>\n      <td>2024</td>\n      <td>7852</td>\n      <td>Roxbury Township</td>\n    </tr>\n    <tr>\n      <th>10294385</th>\n      <td>0</td>\n      <td>0.0</td>\n      <td>0</td>\n      <td>0.0</td>\n      <td>0</td>\n      <td>0.0</td>\n      <td>0</td>\n      <td>0.0</td>\n      <td>35620.0</td>\n      <td>NaN</td>\n      <td>...</td>\n      <td>0.0</td>\n      <td>0</td>\n      <td>0.0</td>\n      <td>0</td>\n      <td>0.0</td>\n      <td>0</td>\n      <td>0.0</td>\n      <td>2024</td>\n      <td>7801</td>\n      <td>Victory Gardens Borough</td>\n    </tr>\n    <tr>\n      <th>10294386</th>\n      <td>0</td>\n      <td>0.0</td>\n      <td>0</td>\n      <td>0.0</td>\n      <td>0</td>\n      <td>0.0</td>\n      <td>0</td>\n      <td>0.0</td>\n      <td>35620.0</td>\n      <td>NaN</td>\n      <td>...</td>\n      <td>0.0</td>\n      <td>0</td>\n      <td>0.0</td>\n      <td>0</td>\n      <td>0.0</td>\n      <td>0</td>\n      <td>0.0</td>\n      <td>2024</td>\n      <td>78530216</td>\n      <td>Washington Township</td>\n    </tr>\n    <tr>\n      <th>10294387</th>\n      <td>0</td>\n      <td>0.0</td>\n      <td>0</td>\n      <td>0.0</td>\n      <td>0</td>\n      <td>0.0</td>\n      <td>1</td>\n      <td>1.0</td>\n      <td>35620.0</td>\n      <td>NaN</td>\n      <td>...</td>\n      <td>0.0</td>\n      <td>0</td>\n      <td>0.0</td>\n      <td>0</td>\n      <td>0.0</td>\n      <td>1772100</td>\n      <td>1772100.0</td>\n      <td>2024</td>\n      <td>7885</td>\n      <td>Wharton Borough</td>\n    </tr>\n  </tbody>\n</table>\n<p>34893 rows × 62 columns</p>\n</div>"
     },
     "execution_count": 88,
     "metadata": {},
     "output_type": "execute_result"
    }
   ],
   "source": [
    "df_morris"
   ],
   "metadata": {
    "collapsed": false,
    "ExecuteTime": {
     "end_time": "2024-04-23T05:40:48.734889300Z",
     "start_time": "2024-04-23T05:40:48.692188900Z"
    }
   },
   "id": "7ab4af50c889e334",
   "execution_count": 88
  },
  {
   "cell_type": "code",
   "outputs": [],
   "source": [
    "# Percent of total population\n",
    "new_df = pd.DataFrame()\n",
    "new_df[\"town\"] = df_morris.LOCATION_NAME.sort_values(ascending=True).unique()\n",
    "#town_pop = df_comb.groupby('Park_Place')[\"SUM_TOTPOPSVCA\"].sum()\n",
    "\n",
    "for var in meaningful_columns:\n",
    "    new_col = df_morris.groupby('LOCATION_NAME')[var].sum().values\n",
    "    new_df[var] = new_col\n"
   ],
   "metadata": {
    "collapsed": false,
    "ExecuteTime": {
     "end_time": "2024-04-23T05:40:48.841260700Z",
     "start_time": "2024-04-23T05:40:48.736110500Z"
    }
   },
   "id": "d57375c9924cc0ae",
   "execution_count": 89
  },
  {
   "cell_type": "markdown",
   "source": [
    "### Drop some columns for better model"
   ],
   "metadata": {
    "collapsed": false
   },
   "id": "ef7eb6683f6eaff8"
  },
  {
   "cell_type": "code",
   "outputs": [
    {
     "data": {
      "text/plain": "Index(['town', 'TOTAL_UNITS', 'TOTAL_VALUE', 'UNITS_1_UNIT', 'UNITS_2_UNITS',\n       'UNITS_3_4_UNITS', 'UNITS_5_UNITS', 'VALUE_1_UNIT', 'VALUE_2_UNITS',\n       'VALUE_3_4_UNITS', 'VALUE_5_UNITS'],\n      dtype='object')"
     },
     "execution_count": 91,
     "metadata": {},
     "output_type": "execute_result"
    }
   ],
   "source": [
    "new_df.drop(['BLDGS_1_UNIT', 'BLDGS_2_UNITS','BLDGS_3_4_UNITS', 'BLDGS_5_UNITS', 'TOTAL_BLDGS'],inplace=True,axis=1)\n",
    "new_df.columns"
   ],
   "metadata": {
    "collapsed": false,
    "ExecuteTime": {
     "end_time": "2024-04-23T05:40:48.876753300Z",
     "start_time": "2024-04-23T05:40:48.858668600Z"
    }
   },
   "id": "4aac13672b2abf62",
   "execution_count": 91
  },
  {
   "cell_type": "code",
   "outputs": [],
   "source": [
    "new_df.to_csv(\"morrisCountyBPS.csv\", index=False)"
   ],
   "metadata": {
    "collapsed": false,
    "ExecuteTime": {
     "end_time": "2024-04-23T05:40:48.899632700Z",
     "start_time": "2024-04-23T05:40:48.877754300Z"
    }
   },
   "id": "ecd46242fa0ea3c9",
   "execution_count": 92
  }
 ],
 "metadata": {
  "kernelspec": {
   "display_name": "Python 3",
   "language": "python",
   "name": "python3"
  },
  "language_info": {
   "codemirror_mode": {
    "name": "ipython",
    "version": 2
   },
   "file_extension": ".py",
   "mimetype": "text/x-python",
   "name": "python",
   "nbconvert_exporter": "python",
   "pygments_lexer": "ipython2",
   "version": "2.7.6"
  }
 },
 "nbformat": 4,
 "nbformat_minor": 5
}
